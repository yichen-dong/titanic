{
 "cells": [
  {
   "cell_type": "markdown",
   "metadata": {
    "toc": true
   },
   "source": [
    "<h1>Table of Contents<span class=\"tocSkip\"></span></h1>\n",
    "<div class=\"toc\"><ul class=\"toc-item\"><li><span><a href=\"#Problem-Statement\" data-toc-modified-id=\"Problem-Statement-1\"><span class=\"toc-item-num\">1&nbsp;&nbsp;</span>Problem Statement</a></span></li><li><span><a href=\"#Data-Load\" data-toc-modified-id=\"Data-Load-2\"><span class=\"toc-item-num\">2&nbsp;&nbsp;</span>Data Load</a></span></li><li><span><a href=\"#Transformations\" data-toc-modified-id=\"Transformations-3\"><span class=\"toc-item-num\">3&nbsp;&nbsp;</span>Transformations</a></span><ul class=\"toc-item\"><li><ul class=\"toc-item\"><li><span><a href=\"#Training\" data-toc-modified-id=\"Training-3.0.1\"><span class=\"toc-item-num\">3.0.1&nbsp;&nbsp;</span>Training</a></span></li><li><span><a href=\"#Test\" data-toc-modified-id=\"Test-3.0.2\"><span class=\"toc-item-num\">3.0.2&nbsp;&nbsp;</span>Test</a></span></li></ul></li></ul></li><li><span><a href=\"#EDA\" data-toc-modified-id=\"EDA-4\"><span class=\"toc-item-num\">4&nbsp;&nbsp;</span>EDA</a></span><ul class=\"toc-item\"><li><span><a href=\"#Training\" data-toc-modified-id=\"Training-4.1\"><span class=\"toc-item-num\">4.1&nbsp;&nbsp;</span>Training</a></span></li><li><span><a href=\"#Training-Set-Univariate-Analysis\" data-toc-modified-id=\"Training-Set-Univariate-Analysis-4.2\"><span class=\"toc-item-num\">4.2&nbsp;&nbsp;</span>Training Set Univariate Analysis</a></span></li><li><span><a href=\"#Multivariate-analysis\" data-toc-modified-id=\"Multivariate-analysis-4.3\"><span class=\"toc-item-num\">4.3&nbsp;&nbsp;</span>Multivariate analysis</a></span><ul class=\"toc-item\"><li><span><a href=\"#Exploring-the-relationships-in-greater-detail\" data-toc-modified-id=\"Exploring-the-relationships-in-greater-detail-4.3.1\"><span class=\"toc-item-num\">4.3.1&nbsp;&nbsp;</span>Exploring the relationships in greater detail</a></span></li></ul></li></ul></li><li><span><a href=\"#Testing-accuracy-on-a-simple-logistic\" data-toc-modified-id=\"Testing-accuracy-on-a-simple-logistic-5\"><span class=\"toc-item-num\">5&nbsp;&nbsp;</span>Testing accuracy on a simple logistic</a></span></li><li><span><a href=\"#Using-Sci-kit-learn-to-build-and-test-performance-of-different-models\" data-toc-modified-id=\"Using-Sci-kit-learn-to-build-and-test-performance-of-different-models-6\"><span class=\"toc-item-num\">6&nbsp;&nbsp;</span>Using Sci-kit learn to build and test performance of different models</a></span><ul class=\"toc-item\"><li><span><a href=\"#Train-holdout-split\" data-toc-modified-id=\"Train-holdout-split-6.1\"><span class=\"toc-item-num\">6.1&nbsp;&nbsp;</span>Train holdout split</a></span></li><li><span><a href=\"#Logistic-Regression\" data-toc-modified-id=\"Logistic-Regression-6.2\"><span class=\"toc-item-num\">6.2&nbsp;&nbsp;</span>Logistic Regression</a></span></li><li><span><a href=\"#Decision-Tree\" data-toc-modified-id=\"Decision-Tree-6.3\"><span class=\"toc-item-num\">6.3&nbsp;&nbsp;</span>Decision Tree</a></span></li><li><span><a href=\"#Random-Forest\" data-toc-modified-id=\"Random-Forest-6.4\"><span class=\"toc-item-num\">6.4&nbsp;&nbsp;</span>Random Forest</a></span></li><li><span><a href=\"#SVM\" data-toc-modified-id=\"SVM-6.5\"><span class=\"toc-item-num\">6.5&nbsp;&nbsp;</span>SVM</a></span></li><li><span><a href=\"#Naive-Bayes\" data-toc-modified-id=\"Naive-Bayes-6.6\"><span class=\"toc-item-num\">6.6&nbsp;&nbsp;</span>Naive Bayes</a></span></li><li><span><a href=\"#XGBoost\" data-toc-modified-id=\"XGBoost-6.7\"><span class=\"toc-item-num\">6.7&nbsp;&nbsp;</span>XGBoost</a></span></li></ul></li><li><span><a href=\"#Ensembling-the-models\" data-toc-modified-id=\"Ensembling-the-models-7\"><span class=\"toc-item-num\">7&nbsp;&nbsp;</span>Ensembling the models</a></span><ul class=\"toc-item\"><li><span><a href=\"#Predict-on-test\" data-toc-modified-id=\"Predict-on-test-7.1\"><span class=\"toc-item-num\">7.1&nbsp;&nbsp;</span>Predict on test</a></span></li></ul></li><li><span><a href=\"#Stacking-the-models\" data-toc-modified-id=\"Stacking-the-models-8\"><span class=\"toc-item-num\">8&nbsp;&nbsp;</span>Stacking the models</a></span><ul class=\"toc-item\"><li><span><a href=\"#Predict-on-test\" data-toc-modified-id=\"Predict-on-test-8.1\"><span class=\"toc-item-num\">8.1&nbsp;&nbsp;</span>Predict on test</a></span></li></ul></li></ul></div>"
   ]
  },
  {
   "cell_type": "code",
   "execution_count": 1,
   "metadata": {},
   "outputs": [],
   "source": [
    "import statsmodels.api as sm"
   ]
  },
  {
   "cell_type": "code",
   "execution_count": 2,
   "metadata": {},
   "outputs": [],
   "source": [
    "import pandas as pd\n",
    "import numpy as np\n",
    "import seaborn as sns\n",
    "import re\n",
    "import matplotlib.pyplot as plt"
   ]
  },
  {
   "cell_type": "markdown",
   "metadata": {},
   "source": [
    "# Problem Statement\n",
    "In this problem we are given a dataset to predict the likelihood of someone surviving on the titanic. The result is a binary variable of either surviving or not. \n",
    "\n",
    "Measurement of success: Predicting on the test dataset correctly whether the person survived the Titanic or not\n",
    "\n",
    "We have 9 variables:\n",
    "- Pclass: A proxy for socio-economic status (1st = Upper, 2nd = Middle, 3rd = Lower)\n",
    "- Name\n",
    "- Sex\n",
    "- Age: Age is fractional if less than 1. If the age is estimated, is it in the form of xx.5\n",
    "- sibsp: The dataset defines family relations in this way...\n",
    "    - Sibling = brother, sister, stepbrother, stepsister\n",
    "    - Spouse = husband, wife (mistresses and fiancés were ignored)\n",
    "- Ticket: Looks like some sort of letter number combination? Not sure if it'll be useful\n",
    "- Fare\n",
    "- Cabin: a number with NaN as null?\n",
    "- Embarked: Port of Embarkation (C = Cherbourg, Q = Queenstown, S = Southampton)\n"
   ]
  },
  {
   "cell_type": "markdown",
   "metadata": {},
   "source": [
    "# Data Load"
   ]
  },
  {
   "cell_type": "code",
   "execution_count": 3,
   "metadata": {},
   "outputs": [],
   "source": [
    "train_data = pd.read_csv('train.csv')\n",
    "test_data = pd.read_csv('test.csv')"
   ]
  },
  {
   "cell_type": "code",
   "execution_count": 4,
   "metadata": {},
   "outputs": [
    {
     "data": {
      "text/plain": [
       "0    549\n",
       "1    342\n",
       "Name: Survived, dtype: int64"
      ]
     },
     "execution_count": 4,
     "metadata": {},
     "output_type": "execute_result"
    }
   ],
   "source": [
    "train_data['Survived'].value_counts()"
   ]
  },
  {
   "cell_type": "markdown",
   "metadata": {},
   "source": [
    "# Transformations"
   ]
  },
  {
   "cell_type": "markdown",
   "metadata": {},
   "source": [
    "### Training\n",
    "Here we are creating a few variables. `Child` is created based on a definition of \"child\" historically.\n",
    "\n",
    "`Has_cabin` is created because it seems like a cabin number is assigned only if they have a cabin.\n",
    "\n",
    "`Title_Cleaned` is the name of their title- Mr, Mrs., etc. \n",
    "\n",
    "`Has_Age` just says whether they have a valid age or not."
   ]
  },
  {
   "cell_type": "code",
   "execution_count": 5,
   "metadata": {},
   "outputs": [],
   "source": [
    "titles = train_data['Name'].str.findall(r', [\\w\\s]*\\.')\n",
    "\n",
    "train_data['Title'] = [re.findall('[\\w\\s]*',x[0])[1] for x in titles]"
   ]
  },
  {
   "cell_type": "code",
   "execution_count": 6,
   "metadata": {},
   "outputs": [],
   "source": [
    "train_data['Child'] = train_data['Age'] <= 14\n",
    "train_data['Has_Cabin'] = [1 if pd.isnull(x) != True else 0 for x in train_data['Cabin']]\n",
    "train_data_title_grouped = train_data.groupby('Title',as_index=False).agg({'Survived':'mean','Age':'max','PassengerId':'count'})\n",
    "high_titles = train_data_title_grouped.loc[train_data_title_grouped['PassengerId'] >= 10]['Title']\n",
    "\n",
    "train_data['Title_Cleaned'] = ['Other' if x not in list(high_titles) else x for x in train_data['Title']]\n",
    "\n",
    "train_data['Has_Age'] = ~train_data['Age'].isnull()"
   ]
  },
  {
   "cell_type": "code",
   "execution_count": 7,
   "metadata": {},
   "outputs": [],
   "source": [
    "train_data_dummies = pd.get_dummies(data=train_data,columns = ['Pclass','Sex','Embarked'])"
   ]
  },
  {
   "cell_type": "code",
   "execution_count": 8,
   "metadata": {},
   "outputs": [
    {
     "data": {
      "text/html": [
       "<div>\n",
       "<style scoped>\n",
       "    .dataframe tbody tr th:only-of-type {\n",
       "        vertical-align: middle;\n",
       "    }\n",
       "\n",
       "    .dataframe tbody tr th {\n",
       "        vertical-align: top;\n",
       "    }\n",
       "\n",
       "    .dataframe thead th {\n",
       "        text-align: right;\n",
       "    }\n",
       "</style>\n",
       "<table border=\"1\" class=\"dataframe\">\n",
       "  <thead>\n",
       "    <tr style=\"text-align: right;\">\n",
       "      <th></th>\n",
       "      <th>PassengerId</th>\n",
       "      <th>Survived</th>\n",
       "      <th>Name</th>\n",
       "      <th>Age</th>\n",
       "      <th>SibSp</th>\n",
       "      <th>Parch</th>\n",
       "      <th>Ticket</th>\n",
       "      <th>Fare</th>\n",
       "      <th>Cabin</th>\n",
       "      <th>Title</th>\n",
       "      <th>...</th>\n",
       "      <th>Title_Cleaned</th>\n",
       "      <th>Has_Age</th>\n",
       "      <th>Pclass_1</th>\n",
       "      <th>Pclass_2</th>\n",
       "      <th>Pclass_3</th>\n",
       "      <th>Sex_female</th>\n",
       "      <th>Sex_male</th>\n",
       "      <th>Embarked_C</th>\n",
       "      <th>Embarked_Q</th>\n",
       "      <th>Embarked_S</th>\n",
       "    </tr>\n",
       "  </thead>\n",
       "  <tbody>\n",
       "    <tr>\n",
       "      <th>0</th>\n",
       "      <td>1</td>\n",
       "      <td>0</td>\n",
       "      <td>Braund, Mr. Owen Harris</td>\n",
       "      <td>22.0</td>\n",
       "      <td>1</td>\n",
       "      <td>0</td>\n",
       "      <td>A/5 21171</td>\n",
       "      <td>7.25</td>\n",
       "      <td>NaN</td>\n",
       "      <td>Mr</td>\n",
       "      <td>...</td>\n",
       "      <td>Mr</td>\n",
       "      <td>True</td>\n",
       "      <td>0</td>\n",
       "      <td>0</td>\n",
       "      <td>1</td>\n",
       "      <td>0</td>\n",
       "      <td>1</td>\n",
       "      <td>0</td>\n",
       "      <td>0</td>\n",
       "      <td>1</td>\n",
       "    </tr>\n",
       "  </tbody>\n",
       "</table>\n",
       "<p>1 rows × 22 columns</p>\n",
       "</div>"
      ],
      "text/plain": [
       "   PassengerId  Survived                     Name   Age  SibSp  Parch  \\\n",
       "0            1         0  Braund, Mr. Owen Harris  22.0      1      0   \n",
       "\n",
       "      Ticket  Fare Cabin Title  ...  Title_Cleaned  Has_Age Pclass_1  \\\n",
       "0  A/5 21171  7.25   NaN    Mr  ...             Mr     True        0   \n",
       "\n",
       "   Pclass_2  Pclass_3  Sex_female  Sex_male  Embarked_C  Embarked_Q  \\\n",
       "0         0         1           0         1           0           0   \n",
       "\n",
       "   Embarked_S  \n",
       "0           1  \n",
       "\n",
       "[1 rows x 22 columns]"
      ]
     },
     "execution_count": 8,
     "metadata": {},
     "output_type": "execute_result"
    }
   ],
   "source": [
    "train_data_dummies.head(1)"
   ]
  },
  {
   "cell_type": "code",
   "execution_count": 9,
   "metadata": {},
   "outputs": [],
   "source": [
    "train_data_dummies['Age_Impute'] = [np.mean(train_data_dummies['Age']) if pd.isnull(x) else x for x in train_data_dummies['Age']]"
   ]
  },
  {
   "cell_type": "markdown",
   "metadata": {},
   "source": [
    "### Test"
   ]
  },
  {
   "cell_type": "code",
   "execution_count": 10,
   "metadata": {},
   "outputs": [],
   "source": [
    "test_data['Child'] = test_data['Age'] <= 14\n",
    "test_data['Has_Cabin'] = [1 if pd.isnull(x) != True else 0 for x in test_data['Cabin']]\n",
    "titles = test_data['Name'].str.findall(r', [\\w\\s]*\\.')\n",
    "\n",
    "test_data['Title'] = [re.findall('[\\w\\s]*',x[0])[1] for x in titles]\n",
    "test_data['Title_Cleaned'] = ['Other' if x not in list(high_titles) else x for x in test_data['Title']]"
   ]
  },
  {
   "cell_type": "code",
   "execution_count": 11,
   "metadata": {},
   "outputs": [],
   "source": [
    "test_data['Has_Age'] = ~test_data['Age'].isnull()"
   ]
  },
  {
   "cell_type": "code",
   "execution_count": 12,
   "metadata": {},
   "outputs": [],
   "source": [
    "test_data_dummies = pd.get_dummies(data=test_data,columns = ['Pclass','Sex','Embarked'])"
   ]
  },
  {
   "cell_type": "markdown",
   "metadata": {},
   "source": [
    "# EDA"
   ]
  },
  {
   "cell_type": "markdown",
   "metadata": {},
   "source": [
    "## Training"
   ]
  },
  {
   "cell_type": "code",
   "execution_count": 13,
   "metadata": {},
   "outputs": [
    {
     "data": {
      "text/html": [
       "<div>\n",
       "<style scoped>\n",
       "    .dataframe tbody tr th:only-of-type {\n",
       "        vertical-align: middle;\n",
       "    }\n",
       "\n",
       "    .dataframe tbody tr th {\n",
       "        vertical-align: top;\n",
       "    }\n",
       "\n",
       "    .dataframe thead th {\n",
       "        text-align: right;\n",
       "    }\n",
       "</style>\n",
       "<table border=\"1\" class=\"dataframe\">\n",
       "  <thead>\n",
       "    <tr style=\"text-align: right;\">\n",
       "      <th></th>\n",
       "      <th>PassengerId</th>\n",
       "      <th>Survived</th>\n",
       "      <th>Pclass</th>\n",
       "      <th>Name</th>\n",
       "      <th>Sex</th>\n",
       "      <th>Age</th>\n",
       "      <th>SibSp</th>\n",
       "      <th>Parch</th>\n",
       "      <th>Ticket</th>\n",
       "      <th>Fare</th>\n",
       "      <th>Cabin</th>\n",
       "      <th>Embarked</th>\n",
       "      <th>Title</th>\n",
       "      <th>Child</th>\n",
       "      <th>Has_Cabin</th>\n",
       "      <th>Title_Cleaned</th>\n",
       "      <th>Has_Age</th>\n",
       "    </tr>\n",
       "  </thead>\n",
       "  <tbody>\n",
       "    <tr>\n",
       "      <th>0</th>\n",
       "      <td>1</td>\n",
       "      <td>0</td>\n",
       "      <td>3</td>\n",
       "      <td>Braund, Mr. Owen Harris</td>\n",
       "      <td>male</td>\n",
       "      <td>22.0</td>\n",
       "      <td>1</td>\n",
       "      <td>0</td>\n",
       "      <td>A/5 21171</td>\n",
       "      <td>7.2500</td>\n",
       "      <td>NaN</td>\n",
       "      <td>S</td>\n",
       "      <td>Mr</td>\n",
       "      <td>False</td>\n",
       "      <td>0</td>\n",
       "      <td>Mr</td>\n",
       "      <td>True</td>\n",
       "    </tr>\n",
       "    <tr>\n",
       "      <th>1</th>\n",
       "      <td>2</td>\n",
       "      <td>1</td>\n",
       "      <td>1</td>\n",
       "      <td>Cumings, Mrs. John Bradley (Florence Briggs Th...</td>\n",
       "      <td>female</td>\n",
       "      <td>38.0</td>\n",
       "      <td>1</td>\n",
       "      <td>0</td>\n",
       "      <td>PC 17599</td>\n",
       "      <td>71.2833</td>\n",
       "      <td>C85</td>\n",
       "      <td>C</td>\n",
       "      <td>Mrs</td>\n",
       "      <td>False</td>\n",
       "      <td>1</td>\n",
       "      <td>Mrs</td>\n",
       "      <td>True</td>\n",
       "    </tr>\n",
       "    <tr>\n",
       "      <th>2</th>\n",
       "      <td>3</td>\n",
       "      <td>1</td>\n",
       "      <td>3</td>\n",
       "      <td>Heikkinen, Miss. Laina</td>\n",
       "      <td>female</td>\n",
       "      <td>26.0</td>\n",
       "      <td>0</td>\n",
       "      <td>0</td>\n",
       "      <td>STON/O2. 3101282</td>\n",
       "      <td>7.9250</td>\n",
       "      <td>NaN</td>\n",
       "      <td>S</td>\n",
       "      <td>Miss</td>\n",
       "      <td>False</td>\n",
       "      <td>0</td>\n",
       "      <td>Miss</td>\n",
       "      <td>True</td>\n",
       "    </tr>\n",
       "    <tr>\n",
       "      <th>3</th>\n",
       "      <td>4</td>\n",
       "      <td>1</td>\n",
       "      <td>1</td>\n",
       "      <td>Futrelle, Mrs. Jacques Heath (Lily May Peel)</td>\n",
       "      <td>female</td>\n",
       "      <td>35.0</td>\n",
       "      <td>1</td>\n",
       "      <td>0</td>\n",
       "      <td>113803</td>\n",
       "      <td>53.1000</td>\n",
       "      <td>C123</td>\n",
       "      <td>S</td>\n",
       "      <td>Mrs</td>\n",
       "      <td>False</td>\n",
       "      <td>1</td>\n",
       "      <td>Mrs</td>\n",
       "      <td>True</td>\n",
       "    </tr>\n",
       "    <tr>\n",
       "      <th>4</th>\n",
       "      <td>5</td>\n",
       "      <td>0</td>\n",
       "      <td>3</td>\n",
       "      <td>Allen, Mr. William Henry</td>\n",
       "      <td>male</td>\n",
       "      <td>35.0</td>\n",
       "      <td>0</td>\n",
       "      <td>0</td>\n",
       "      <td>373450</td>\n",
       "      <td>8.0500</td>\n",
       "      <td>NaN</td>\n",
       "      <td>S</td>\n",
       "      <td>Mr</td>\n",
       "      <td>False</td>\n",
       "      <td>0</td>\n",
       "      <td>Mr</td>\n",
       "      <td>True</td>\n",
       "    </tr>\n",
       "  </tbody>\n",
       "</table>\n",
       "</div>"
      ],
      "text/plain": [
       "   PassengerId  Survived  Pclass  \\\n",
       "0            1         0       3   \n",
       "1            2         1       1   \n",
       "2            3         1       3   \n",
       "3            4         1       1   \n",
       "4            5         0       3   \n",
       "\n",
       "                                                Name     Sex   Age  SibSp  \\\n",
       "0                            Braund, Mr. Owen Harris    male  22.0      1   \n",
       "1  Cumings, Mrs. John Bradley (Florence Briggs Th...  female  38.0      1   \n",
       "2                             Heikkinen, Miss. Laina  female  26.0      0   \n",
       "3       Futrelle, Mrs. Jacques Heath (Lily May Peel)  female  35.0      1   \n",
       "4                           Allen, Mr. William Henry    male  35.0      0   \n",
       "\n",
       "   Parch            Ticket     Fare Cabin Embarked  Title  Child  Has_Cabin  \\\n",
       "0      0         A/5 21171   7.2500   NaN        S     Mr  False          0   \n",
       "1      0          PC 17599  71.2833   C85        C    Mrs  False          1   \n",
       "2      0  STON/O2. 3101282   7.9250   NaN        S   Miss  False          0   \n",
       "3      0            113803  53.1000  C123        S    Mrs  False          1   \n",
       "4      0            373450   8.0500   NaN        S     Mr  False          0   \n",
       "\n",
       "  Title_Cleaned  Has_Age  \n",
       "0            Mr     True  \n",
       "1           Mrs     True  \n",
       "2          Miss     True  \n",
       "3           Mrs     True  \n",
       "4            Mr     True  "
      ]
     },
     "execution_count": 13,
     "metadata": {},
     "output_type": "execute_result"
    }
   ],
   "source": [
    "train_data.head()"
   ]
  },
  {
   "cell_type": "code",
   "execution_count": 14,
   "metadata": {},
   "outputs": [
    {
     "data": {
      "text/html": [
       "<div>\n",
       "<style scoped>\n",
       "    .dataframe tbody tr th:only-of-type {\n",
       "        vertical-align: middle;\n",
       "    }\n",
       "\n",
       "    .dataframe tbody tr th {\n",
       "        vertical-align: top;\n",
       "    }\n",
       "\n",
       "    .dataframe thead th {\n",
       "        text-align: right;\n",
       "    }\n",
       "</style>\n",
       "<table border=\"1\" class=\"dataframe\">\n",
       "  <thead>\n",
       "    <tr style=\"text-align: right;\">\n",
       "      <th></th>\n",
       "      <th>PassengerId</th>\n",
       "      <th>Survived</th>\n",
       "      <th>Pclass</th>\n",
       "      <th>Name</th>\n",
       "      <th>Sex</th>\n",
       "      <th>Age</th>\n",
       "      <th>SibSp</th>\n",
       "      <th>Parch</th>\n",
       "      <th>Ticket</th>\n",
       "      <th>Fare</th>\n",
       "      <th>Cabin</th>\n",
       "      <th>Embarked</th>\n",
       "      <th>Title</th>\n",
       "      <th>Child</th>\n",
       "      <th>Has_Cabin</th>\n",
       "      <th>Title_Cleaned</th>\n",
       "      <th>Has_Age</th>\n",
       "    </tr>\n",
       "  </thead>\n",
       "  <tbody>\n",
       "    <tr>\n",
       "      <th>886</th>\n",
       "      <td>887</td>\n",
       "      <td>0</td>\n",
       "      <td>2</td>\n",
       "      <td>Montvila, Rev. Juozas</td>\n",
       "      <td>male</td>\n",
       "      <td>27.0</td>\n",
       "      <td>0</td>\n",
       "      <td>0</td>\n",
       "      <td>211536</td>\n",
       "      <td>13.00</td>\n",
       "      <td>NaN</td>\n",
       "      <td>S</td>\n",
       "      <td>Rev</td>\n",
       "      <td>False</td>\n",
       "      <td>0</td>\n",
       "      <td>Other</td>\n",
       "      <td>True</td>\n",
       "    </tr>\n",
       "    <tr>\n",
       "      <th>887</th>\n",
       "      <td>888</td>\n",
       "      <td>1</td>\n",
       "      <td>1</td>\n",
       "      <td>Graham, Miss. Margaret Edith</td>\n",
       "      <td>female</td>\n",
       "      <td>19.0</td>\n",
       "      <td>0</td>\n",
       "      <td>0</td>\n",
       "      <td>112053</td>\n",
       "      <td>30.00</td>\n",
       "      <td>B42</td>\n",
       "      <td>S</td>\n",
       "      <td>Miss</td>\n",
       "      <td>False</td>\n",
       "      <td>1</td>\n",
       "      <td>Miss</td>\n",
       "      <td>True</td>\n",
       "    </tr>\n",
       "    <tr>\n",
       "      <th>888</th>\n",
       "      <td>889</td>\n",
       "      <td>0</td>\n",
       "      <td>3</td>\n",
       "      <td>Johnston, Miss. Catherine Helen \"Carrie\"</td>\n",
       "      <td>female</td>\n",
       "      <td>NaN</td>\n",
       "      <td>1</td>\n",
       "      <td>2</td>\n",
       "      <td>W./C. 6607</td>\n",
       "      <td>23.45</td>\n",
       "      <td>NaN</td>\n",
       "      <td>S</td>\n",
       "      <td>Miss</td>\n",
       "      <td>False</td>\n",
       "      <td>0</td>\n",
       "      <td>Miss</td>\n",
       "      <td>False</td>\n",
       "    </tr>\n",
       "    <tr>\n",
       "      <th>889</th>\n",
       "      <td>890</td>\n",
       "      <td>1</td>\n",
       "      <td>1</td>\n",
       "      <td>Behr, Mr. Karl Howell</td>\n",
       "      <td>male</td>\n",
       "      <td>26.0</td>\n",
       "      <td>0</td>\n",
       "      <td>0</td>\n",
       "      <td>111369</td>\n",
       "      <td>30.00</td>\n",
       "      <td>C148</td>\n",
       "      <td>C</td>\n",
       "      <td>Mr</td>\n",
       "      <td>False</td>\n",
       "      <td>1</td>\n",
       "      <td>Mr</td>\n",
       "      <td>True</td>\n",
       "    </tr>\n",
       "    <tr>\n",
       "      <th>890</th>\n",
       "      <td>891</td>\n",
       "      <td>0</td>\n",
       "      <td>3</td>\n",
       "      <td>Dooley, Mr. Patrick</td>\n",
       "      <td>male</td>\n",
       "      <td>32.0</td>\n",
       "      <td>0</td>\n",
       "      <td>0</td>\n",
       "      <td>370376</td>\n",
       "      <td>7.75</td>\n",
       "      <td>NaN</td>\n",
       "      <td>Q</td>\n",
       "      <td>Mr</td>\n",
       "      <td>False</td>\n",
       "      <td>0</td>\n",
       "      <td>Mr</td>\n",
       "      <td>True</td>\n",
       "    </tr>\n",
       "  </tbody>\n",
       "</table>\n",
       "</div>"
      ],
      "text/plain": [
       "     PassengerId  Survived  Pclass                                      Name  \\\n",
       "886          887         0       2                     Montvila, Rev. Juozas   \n",
       "887          888         1       1              Graham, Miss. Margaret Edith   \n",
       "888          889         0       3  Johnston, Miss. Catherine Helen \"Carrie\"   \n",
       "889          890         1       1                     Behr, Mr. Karl Howell   \n",
       "890          891         0       3                       Dooley, Mr. Patrick   \n",
       "\n",
       "        Sex   Age  SibSp  Parch      Ticket   Fare Cabin Embarked  Title  \\\n",
       "886    male  27.0      0      0      211536  13.00   NaN        S    Rev   \n",
       "887  female  19.0      0      0      112053  30.00   B42        S   Miss   \n",
       "888  female   NaN      1      2  W./C. 6607  23.45   NaN        S   Miss   \n",
       "889    male  26.0      0      0      111369  30.00  C148        C     Mr   \n",
       "890    male  32.0      0      0      370376   7.75   NaN        Q     Mr   \n",
       "\n",
       "     Child  Has_Cabin Title_Cleaned  Has_Age  \n",
       "886  False          0         Other     True  \n",
       "887  False          1          Miss     True  \n",
       "888  False          0          Miss    False  \n",
       "889  False          1            Mr     True  \n",
       "890  False          0            Mr     True  "
      ]
     },
     "execution_count": 14,
     "metadata": {},
     "output_type": "execute_result"
    }
   ],
   "source": [
    "train_data.tail()"
   ]
  },
  {
   "cell_type": "code",
   "execution_count": 15,
   "metadata": {},
   "outputs": [
    {
     "name": "stdout",
     "output_type": "stream",
     "text": [
      "<class 'pandas.core.frame.DataFrame'>\n",
      "RangeIndex: 891 entries, 0 to 890\n",
      "Data columns (total 17 columns):\n",
      " #   Column         Non-Null Count  Dtype  \n",
      "---  ------         --------------  -----  \n",
      " 0   PassengerId    891 non-null    int64  \n",
      " 1   Survived       891 non-null    int64  \n",
      " 2   Pclass         891 non-null    int64  \n",
      " 3   Name           891 non-null    object \n",
      " 4   Sex            891 non-null    object \n",
      " 5   Age            714 non-null    float64\n",
      " 6   SibSp          891 non-null    int64  \n",
      " 7   Parch          891 non-null    int64  \n",
      " 8   Ticket         891 non-null    object \n",
      " 9   Fare           891 non-null    float64\n",
      " 10  Cabin          204 non-null    object \n",
      " 11  Embarked       889 non-null    object \n",
      " 12  Title          891 non-null    object \n",
      " 13  Child          891 non-null    bool   \n",
      " 14  Has_Cabin      891 non-null    int64  \n",
      " 15  Title_Cleaned  891 non-null    object \n",
      " 16  Has_Age        891 non-null    bool   \n",
      "dtypes: bool(2), float64(2), int64(6), object(7)\n",
      "memory usage: 106.3+ KB\n"
     ]
    }
   ],
   "source": [
    "train_data.info()"
   ]
  },
  {
   "cell_type": "markdown",
   "metadata": {},
   "source": [
    "Datatypes are what I would expect"
   ]
  },
  {
   "cell_type": "code",
   "execution_count": 16,
   "metadata": {},
   "outputs": [
    {
     "data": {
      "text/plain": [
       "PassengerId      0.000000\n",
       "Survived         0.000000\n",
       "Pclass           0.000000\n",
       "Name             0.000000\n",
       "Sex              0.000000\n",
       "Age              0.198653\n",
       "SibSp            0.000000\n",
       "Parch            0.000000\n",
       "Ticket           0.000000\n",
       "Fare             0.000000\n",
       "Cabin            0.771044\n",
       "Embarked         0.002245\n",
       "Title            0.000000\n",
       "Child            0.000000\n",
       "Has_Cabin        0.000000\n",
       "Title_Cleaned    0.000000\n",
       "Has_Age          0.000000\n",
       "dtype: float64"
      ]
     },
     "execution_count": 16,
     "metadata": {},
     "output_type": "execute_result"
    }
   ],
   "source": [
    "train_data.isnull().mean()"
   ]
  },
  {
   "cell_type": "markdown",
   "metadata": {},
   "source": [
    "looks like 20% of Age has some nulls, as well as 80 % of Cabin. The 2 embarked is weird."
   ]
  },
  {
   "cell_type": "code",
   "execution_count": 17,
   "metadata": {},
   "outputs": [
    {
     "data": {
      "text/plain": [
       "0"
      ]
     },
     "execution_count": 17,
     "metadata": {},
     "output_type": "execute_result"
    }
   ],
   "source": [
    "train_data.duplicated().sum()"
   ]
  },
  {
   "cell_type": "code",
   "execution_count": 18,
   "metadata": {},
   "outputs": [
    {
     "data": {
      "text/plain": [
       "<AxesSubplot:xlabel='Age', ylabel='Count'>"
      ]
     },
     "execution_count": 18,
     "metadata": {},
     "output_type": "execute_result"
    },
    {
     "data": {
      "image/png": "[encoded data removed]",
      "text/plain": [
       "<Figure size 432x288 with 1 Axes>"
      ]
     },
     "metadata": {
      "needs_background": "light"
     },
     "output_type": "display_data"
    }
   ],
   "source": [
    "sns.histplot(train_data['Age'].dropna(),kde=True)"
   ]
  },
  {
   "cell_type": "markdown",
   "metadata": {},
   "source": [
    "Seems like there's a significant bump in the 0 region for age"
   ]
  },
  {
   "cell_type": "markdown",
   "metadata": {},
   "source": [
    "Based on https://www.encyclopedia-titanica.org/children-on-titanic/, it looks like 14 is the age cutoff to be considered a child. This could be a field that's added to the training and test dataset. "
   ]
  },
  {
   "cell_type": "code",
   "execution_count": 19,
   "metadata": {},
   "outputs": [
    {
     "data": {
      "text/plain": [
       "Calderhead, Mr. Edward Pennington    1\n",
       "Johnson, Master. Harold Theodor      1\n",
       "Morrow, Mr. Thomas Rowan             1\n",
       "Lang, Mr. Fang                       1\n",
       "Sivic, Mr. Husein                    1\n",
       "                                    ..\n",
       "McNamee, Mr. Neal                    1\n",
       "Kent, Mr. Edward Austin              1\n",
       "Elias, Mr. Dibo                      1\n",
       "Vande Walle, Mr. Nestor Cyriel       1\n",
       "Ling, Mr. Lee                        1\n",
       "Name: Name, Length: 891, dtype: int64"
      ]
     },
     "metadata": {},
     "output_type": "display_data"
    },
    {
     "data": {
      "text/plain": [
       "male      577\n",
       "female    314\n",
       "Name: Sex, dtype: int64"
      ]
     },
     "metadata": {},
     "output_type": "display_data"
    },
    {
     "data": {
      "text/plain": [
       "347082        7\n",
       "1601          7\n",
       "CA. 2343      7\n",
       "CA 2144       6\n",
       "3101295       6\n",
       "             ..\n",
       "348123        1\n",
       "13567         1\n",
       "A/5. 13032    1\n",
       "349209        1\n",
       "14311         1\n",
       "Name: Ticket, Length: 681, dtype: int64"
      ]
     },
     "metadata": {},
     "output_type": "display_data"
    },
    {
     "data": {
      "text/plain": [
       "C23 C25 C27    4\n",
       "B96 B98        4\n",
       "G6             4\n",
       "C22 C26        3\n",
       "D              3\n",
       "              ..\n",
       "D47            1\n",
       "B86            1\n",
       "B42            1\n",
       "B50            1\n",
       "D48            1\n",
       "Name: Cabin, Length: 147, dtype: int64"
      ]
     },
     "metadata": {},
     "output_type": "display_data"
    },
    {
     "data": {
      "text/plain": [
       "S    644\n",
       "C    168\n",
       "Q     77\n",
       "Name: Embarked, dtype: int64"
      ]
     },
     "metadata": {},
     "output_type": "display_data"
    },
    {
     "data": {
      "text/plain": [
       " Mr              517\n",
       " Miss            182\n",
       " Mrs             125\n",
       " Master           40\n",
       " Dr                7\n",
       " Rev               6\n",
       " Mlle              2\n",
       " Major             2\n",
       " Col               2\n",
       " Lady              1\n",
       " Ms                1\n",
       " Capt              1\n",
       " Jonkheer          1\n",
       " the Countess      1\n",
       " Sir               1\n",
       " Don               1\n",
       " Mme               1\n",
       "Name: Title, dtype: int64"
      ]
     },
     "metadata": {},
     "output_type": "display_data"
    },
    {
     "data": {
      "text/plain": [
       " Mr        517\n",
       " Miss      182\n",
       " Mrs       125\n",
       " Master     40\n",
       "Other       27\n",
       "Name: Title_Cleaned, dtype: int64"
      ]
     },
     "metadata": {},
     "output_type": "display_data"
    },
    {
     "data": {
      "text/plain": [
       "[nan,\n",
       " nan,\n",
       " nan,\n",
       " None,\n",
       " None,\n",
       " nan,\n",
       " nan,\n",
       " nan,\n",
       " None,\n",
       " nan,\n",
       " None,\n",
       " None,\n",
       " None,\n",
       " nan,\n",
       " nan,\n",
       " None,\n",
       " nan]"
      ]
     },
     "execution_count": 19,
     "metadata": {},
     "output_type": "execute_result"
    }
   ],
   "source": [
    "[display(train_data[x].value_counts()) if train_data[x].dtype == 'object' else np.nan for x in train_data]"
   ]
  },
  {
   "cell_type": "markdown",
   "metadata": {},
   "source": [
    "Looks like Name and Ticket and Cabin are kinda useless in their current state. We know that cabin has nulls, so maybe the nulls means that they weren't assigned a cabin? How many of these nulls are in test? Looks like a decent number as well. 80% are null. Perhaps we could make a variable that says whether it's cabin or no cabin"
   ]
  },
  {
   "cell_type": "code",
   "execution_count": 20,
   "metadata": {},
   "outputs": [],
   "source": [
    "train_data['Child'] = train_data['Age'] <= 14\n",
    "train_data['Has_Cabin'] = [1 if pd.isnull(x) != True else 0 for x in train_data['Cabin']]"
   ]
  },
  {
   "cell_type": "markdown",
   "metadata": {},
   "source": [
    "I'm wondering if there is a way to use the name data. Looks like there is a way to get their title out from the name using Regex. It seems like it's always between the comma and the period. It seems like there's a Mr., Mrs., Master, and Miss"
   ]
  },
  {
   "cell_type": "code",
   "execution_count": 21,
   "metadata": {},
   "outputs": [
    {
     "data": {
      "text/html": [
       "<div>\n",
       "<style scoped>\n",
       "    .dataframe tbody tr th:only-of-type {\n",
       "        vertical-align: middle;\n",
       "    }\n",
       "\n",
       "    .dataframe tbody tr th {\n",
       "        vertical-align: top;\n",
       "    }\n",
       "\n",
       "    .dataframe thead th {\n",
       "        text-align: right;\n",
       "    }\n",
       "</style>\n",
       "<table border=\"1\" class=\"dataframe\">\n",
       "  <thead>\n",
       "    <tr style=\"text-align: right;\">\n",
       "      <th></th>\n",
       "      <th>Title</th>\n",
       "      <th>Survived</th>\n",
       "      <th>Age</th>\n",
       "      <th>PassengerId</th>\n",
       "    </tr>\n",
       "  </thead>\n",
       "  <tbody>\n",
       "    <tr>\n",
       "      <th>0</th>\n",
       "      <td>Capt</td>\n",
       "      <td>0.000000</td>\n",
       "      <td>70.0</td>\n",
       "      <td>1</td>\n",
       "    </tr>\n",
       "    <tr>\n",
       "      <th>1</th>\n",
       "      <td>Col</td>\n",
       "      <td>0.500000</td>\n",
       "      <td>60.0</td>\n",
       "      <td>2</td>\n",
       "    </tr>\n",
       "    <tr>\n",
       "      <th>2</th>\n",
       "      <td>Don</td>\n",
       "      <td>0.000000</td>\n",
       "      <td>40.0</td>\n",
       "      <td>1</td>\n",
       "    </tr>\n",
       "    <tr>\n",
       "      <th>3</th>\n",
       "      <td>Dr</td>\n",
       "      <td>0.428571</td>\n",
       "      <td>54.0</td>\n",
       "      <td>7</td>\n",
       "    </tr>\n",
       "    <tr>\n",
       "      <th>4</th>\n",
       "      <td>Jonkheer</td>\n",
       "      <td>0.000000</td>\n",
       "      <td>38.0</td>\n",
       "      <td>1</td>\n",
       "    </tr>\n",
       "    <tr>\n",
       "      <th>5</th>\n",
       "      <td>Lady</td>\n",
       "      <td>1.000000</td>\n",
       "      <td>48.0</td>\n",
       "      <td>1</td>\n",
       "    </tr>\n",
       "    <tr>\n",
       "      <th>6</th>\n",
       "      <td>Major</td>\n",
       "      <td>0.500000</td>\n",
       "      <td>52.0</td>\n",
       "      <td>2</td>\n",
       "    </tr>\n",
       "    <tr>\n",
       "      <th>7</th>\n",
       "      <td>Master</td>\n",
       "      <td>0.575000</td>\n",
       "      <td>12.0</td>\n",
       "      <td>40</td>\n",
       "    </tr>\n",
       "    <tr>\n",
       "      <th>8</th>\n",
       "      <td>Miss</td>\n",
       "      <td>0.697802</td>\n",
       "      <td>63.0</td>\n",
       "      <td>182</td>\n",
       "    </tr>\n",
       "    <tr>\n",
       "      <th>9</th>\n",
       "      <td>Mlle</td>\n",
       "      <td>1.000000</td>\n",
       "      <td>24.0</td>\n",
       "      <td>2</td>\n",
       "    </tr>\n",
       "    <tr>\n",
       "      <th>10</th>\n",
       "      <td>Mme</td>\n",
       "      <td>1.000000</td>\n",
       "      <td>24.0</td>\n",
       "      <td>1</td>\n",
       "    </tr>\n",
       "    <tr>\n",
       "      <th>11</th>\n",
       "      <td>Mr</td>\n",
       "      <td>0.156673</td>\n",
       "      <td>80.0</td>\n",
       "      <td>517</td>\n",
       "    </tr>\n",
       "    <tr>\n",
       "      <th>12</th>\n",
       "      <td>Mrs</td>\n",
       "      <td>0.792000</td>\n",
       "      <td>63.0</td>\n",
       "      <td>125</td>\n",
       "    </tr>\n",
       "    <tr>\n",
       "      <th>13</th>\n",
       "      <td>Ms</td>\n",
       "      <td>1.000000</td>\n",
       "      <td>28.0</td>\n",
       "      <td>1</td>\n",
       "    </tr>\n",
       "    <tr>\n",
       "      <th>14</th>\n",
       "      <td>Rev</td>\n",
       "      <td>0.000000</td>\n",
       "      <td>57.0</td>\n",
       "      <td>6</td>\n",
       "    </tr>\n",
       "    <tr>\n",
       "      <th>15</th>\n",
       "      <td>Sir</td>\n",
       "      <td>1.000000</td>\n",
       "      <td>49.0</td>\n",
       "      <td>1</td>\n",
       "    </tr>\n",
       "    <tr>\n",
       "      <th>16</th>\n",
       "      <td>the Countess</td>\n",
       "      <td>1.000000</td>\n",
       "      <td>33.0</td>\n",
       "      <td>1</td>\n",
       "    </tr>\n",
       "  </tbody>\n",
       "</table>\n",
       "</div>"
      ],
      "text/plain": [
       "            Title  Survived   Age  PassengerId\n",
       "0            Capt  0.000000  70.0            1\n",
       "1             Col  0.500000  60.0            2\n",
       "2             Don  0.000000  40.0            1\n",
       "3              Dr  0.428571  54.0            7\n",
       "4        Jonkheer  0.000000  38.0            1\n",
       "5            Lady  1.000000  48.0            1\n",
       "6           Major  0.500000  52.0            2\n",
       "7          Master  0.575000  12.0           40\n",
       "8            Miss  0.697802  63.0          182\n",
       "9            Mlle  1.000000  24.0            2\n",
       "10            Mme  1.000000  24.0            1\n",
       "11             Mr  0.156673  80.0          517\n",
       "12            Mrs  0.792000  63.0          125\n",
       "13             Ms  1.000000  28.0            1\n",
       "14            Rev  0.000000  57.0            6\n",
       "15            Sir  1.000000  49.0            1\n",
       "16   the Countess  1.000000  33.0            1"
      ]
     },
     "execution_count": 21,
     "metadata": {},
     "output_type": "execute_result"
    }
   ],
   "source": [
    "train_data.groupby('Title',as_index=False).agg({'Survived':'mean','Age':'max','PassengerId':'count'})"
   ]
  },
  {
   "cell_type": "markdown",
   "metadata": {},
   "source": [
    "Looking at the title list, it might not be all that helpful. Mrs. and Miss definitely can tell us if they're married, and Master seems to only be counted for males under 12? Maybe this means that children were only considered under 12? Also, I think I will make all of the <10 ones 'Other'. Hmm maybe there's some help in last names too"
   ]
  },
  {
   "cell_type": "code",
   "execution_count": 22,
   "metadata": {},
   "outputs": [],
   "source": [
    "train_data_title_grouped = train_data.groupby('Title',as_index=False).agg({'Survived':'mean','Age':'max','PassengerId':'count'})\n",
    "high_titles = train_data_title_grouped.loc[train_data_title_grouped['PassengerId'] >= 10]['Title']\n",
    "\n",
    "train_data['Title_Cleaned'] = ['Other' if x not in list(high_titles) else x for x in train_data['Title']]"
   ]
  },
  {
   "cell_type": "markdown",
   "metadata": {},
   "source": [
    "## Training Set Univariate Analysis"
   ]
  },
  {
   "cell_type": "code",
   "execution_count": 23,
   "metadata": {},
   "outputs": [
    {
     "data": {
      "text/html": [
       "<div>\n",
       "<style scoped>\n",
       "    .dataframe tbody tr th:only-of-type {\n",
       "        vertical-align: middle;\n",
       "    }\n",
       "\n",
       "    .dataframe tbody tr th {\n",
       "        vertical-align: top;\n",
       "    }\n",
       "\n",
       "    .dataframe thead th {\n",
       "        text-align: right;\n",
       "    }\n",
       "</style>\n",
       "<table border=\"1\" class=\"dataframe\">\n",
       "  <thead>\n",
       "    <tr style=\"text-align: right;\">\n",
       "      <th></th>\n",
       "      <th>PassengerId</th>\n",
       "      <th>Survived</th>\n",
       "      <th>Pclass</th>\n",
       "      <th>Age</th>\n",
       "      <th>SibSp</th>\n",
       "      <th>Parch</th>\n",
       "      <th>Fare</th>\n",
       "      <th>Has_Cabin</th>\n",
       "    </tr>\n",
       "  </thead>\n",
       "  <tbody>\n",
       "    <tr>\n",
       "      <th>count</th>\n",
       "      <td>891.000000</td>\n",
       "      <td>891.000000</td>\n",
       "      <td>891.000000</td>\n",
       "      <td>714.000000</td>\n",
       "      <td>891.000000</td>\n",
       "      <td>891.000000</td>\n",
       "      <td>891.000000</td>\n",
       "      <td>891.000000</td>\n",
       "    </tr>\n",
       "    <tr>\n",
       "      <th>mean</th>\n",
       "      <td>446.000000</td>\n",
       "      <td>0.383838</td>\n",
       "      <td>2.308642</td>\n",
       "      <td>29.699118</td>\n",
       "      <td>0.523008</td>\n",
       "      <td>0.381594</td>\n",
       "      <td>32.204208</td>\n",
       "      <td>0.228956</td>\n",
       "    </tr>\n",
       "    <tr>\n",
       "      <th>std</th>\n",
       "      <td>257.353842</td>\n",
       "      <td>0.486592</td>\n",
       "      <td>0.836071</td>\n",
       "      <td>14.526497</td>\n",
       "      <td>1.102743</td>\n",
       "      <td>0.806057</td>\n",
       "      <td>49.693429</td>\n",
       "      <td>0.420397</td>\n",
       "    </tr>\n",
       "    <tr>\n",
       "      <th>min</th>\n",
       "      <td>1.000000</td>\n",
       "      <td>0.000000</td>\n",
       "      <td>1.000000</td>\n",
       "      <td>0.420000</td>\n",
       "      <td>0.000000</td>\n",
       "      <td>0.000000</td>\n",
       "      <td>0.000000</td>\n",
       "      <td>0.000000</td>\n",
       "    </tr>\n",
       "    <tr>\n",
       "      <th>25%</th>\n",
       "      <td>223.500000</td>\n",
       "      <td>0.000000</td>\n",
       "      <td>2.000000</td>\n",
       "      <td>20.125000</td>\n",
       "      <td>0.000000</td>\n",
       "      <td>0.000000</td>\n",
       "      <td>7.910400</td>\n",
       "      <td>0.000000</td>\n",
       "    </tr>\n",
       "    <tr>\n",
       "      <th>50%</th>\n",
       "      <td>446.000000</td>\n",
       "      <td>0.000000</td>\n",
       "      <td>3.000000</td>\n",
       "      <td>28.000000</td>\n",
       "      <td>0.000000</td>\n",
       "      <td>0.000000</td>\n",
       "      <td>14.454200</td>\n",
       "      <td>0.000000</td>\n",
       "    </tr>\n",
       "    <tr>\n",
       "      <th>75%</th>\n",
       "      <td>668.500000</td>\n",
       "      <td>1.000000</td>\n",
       "      <td>3.000000</td>\n",
       "      <td>38.000000</td>\n",
       "      <td>1.000000</td>\n",
       "      <td>0.000000</td>\n",
       "      <td>31.000000</td>\n",
       "      <td>0.000000</td>\n",
       "    </tr>\n",
       "    <tr>\n",
       "      <th>max</th>\n",
       "      <td>891.000000</td>\n",
       "      <td>1.000000</td>\n",
       "      <td>3.000000</td>\n",
       "      <td>80.000000</td>\n",
       "      <td>8.000000</td>\n",
       "      <td>6.000000</td>\n",
       "      <td>512.329200</td>\n",
       "      <td>1.000000</td>\n",
       "    </tr>\n",
       "  </tbody>\n",
       "</table>\n",
       "</div>"
      ],
      "text/plain": [
       "       PassengerId    Survived      Pclass         Age       SibSp  \\\n",
       "count   891.000000  891.000000  891.000000  714.000000  891.000000   \n",
       "mean    446.000000    0.383838    2.308642   29.699118    0.523008   \n",
       "std     257.353842    0.486592    0.836071   14.526497    1.102743   \n",
       "min       1.000000    0.000000    1.000000    0.420000    0.000000   \n",
       "25%     223.500000    0.000000    2.000000   20.125000    0.000000   \n",
       "50%     446.000000    0.000000    3.000000   28.000000    0.000000   \n",
       "75%     668.500000    1.000000    3.000000   38.000000    1.000000   \n",
       "max     891.000000    1.000000    3.000000   80.000000    8.000000   \n",
       "\n",
       "            Parch        Fare   Has_Cabin  \n",
       "count  891.000000  891.000000  891.000000  \n",
       "mean     0.381594   32.204208    0.228956  \n",
       "std      0.806057   49.693429    0.420397  \n",
       "min      0.000000    0.000000    0.000000  \n",
       "25%      0.000000    7.910400    0.000000  \n",
       "50%      0.000000   14.454200    0.000000  \n",
       "75%      0.000000   31.000000    0.000000  \n",
       "max      6.000000  512.329200    1.000000  "
      ]
     },
     "execution_count": 23,
     "metadata": {},
     "output_type": "execute_result"
    }
   ],
   "source": [
    "train_data.describe()"
   ]
  },
  {
   "cell_type": "markdown",
   "metadata": {},
   "source": [
    "Everything looks fine. I'll probably make Pclass a dummy variable. Also should be noted that the average \"Survived\" is 38%"
   ]
  },
  {
   "cell_type": "code",
   "execution_count": 24,
   "metadata": {},
   "outputs": [
    {
     "data": {
      "text/plain": [
       "3    491\n",
       "1    216\n",
       "2    184\n",
       "Name: Pclass, dtype: int64"
      ]
     },
     "execution_count": 24,
     "metadata": {},
     "output_type": "execute_result"
    }
   ],
   "source": [
    "train_data['Pclass'].value_counts()"
   ]
  },
  {
   "cell_type": "markdown",
   "metadata": {},
   "source": [
    "It looks like most people were poor. Surprisingly the upper class outnumber the middle class."
   ]
  },
  {
   "cell_type": "code",
   "execution_count": 25,
   "metadata": {},
   "outputs": [
    {
     "data": {
      "image/png": "[encoded data removed]",
      "text/plain": [
       "<Figure size 432x288 with 1 Axes>"
      ]
     },
     "metadata": {
      "needs_background": "light"
     },
     "output_type": "display_data"
    },
    {
     "data": {
      "image/png": "[encoded data removed]",
      "text/plain": [
       "<Figure size 432x288 with 1 Axes>"
      ]
     },
     "metadata": {
      "needs_background": "light"
     },
     "output_type": "display_data"
    }
   ],
   "source": [
    "for x in train_data.select_dtypes('float'):\n",
    "    sns.histplot(x=x,data=train_data)\n",
    "    plt.show()"
   ]
  },
  {
   "cell_type": "markdown",
   "metadata": {},
   "source": []
  },
  {
   "cell_type": "code",
   "execution_count": 27,
   "metadata": {},
   "outputs": [
    {
     "name": "stderr",
     "output_type": "stream",
     "text": [
      "C:\\ProgramData\\Anaconda3\\lib\\site-packages\\seaborn\\_decorators.py:36: FutureWarning: Pass the following variable as a keyword arg: x. From version 0.12, the only valid positional argument will be `data`, and passing other arguments without an explicit keyword will result in an error or misinterpretation.\n",
      "  warnings.warn(\n"
     ]
    },
    {
     "data": {
      "text/plain": [
       "<AxesSubplot:xlabel='Age'>"
      ]
     },
     "execution_count": 27,
     "metadata": {},
     "output_type": "execute_result"
    },
    {
     "data": {
      "image/png": "[encoded data removed]",
      "text/plain": [
       "<Figure size 432x288 with 1 Axes>"
      ]
     },
     "metadata": {
      "needs_background": "light"
     },
     "output_type": "display_data"
    }
   ],
   "source": [
    "sns.boxplot(train_data['Age'])"
   ]
  },
  {
   "cell_type": "markdown",
   "metadata": {},
   "source": [
    "I want to understand why the 0 bin seemingly has more people relative to what I would understand people aged to be at 0. Is this a lot of newborns?"
   ]
  },
  {
   "cell_type": "code",
   "execution_count": 28,
   "metadata": {},
   "outputs": [
    {
     "data": {
      "text/html": [
       "<div>\n",
       "<style scoped>\n",
       "    .dataframe tbody tr th:only-of-type {\n",
       "        vertical-align: middle;\n",
       "    }\n",
       "\n",
       "    .dataframe tbody tr th {\n",
       "        vertical-align: top;\n",
       "    }\n",
       "\n",
       "    .dataframe thead th {\n",
       "        text-align: right;\n",
       "    }\n",
       "</style>\n",
       "<table border=\"1\" class=\"dataframe\">\n",
       "  <thead>\n",
       "    <tr style=\"text-align: right;\">\n",
       "      <th></th>\n",
       "      <th>PassengerId</th>\n",
       "      <th>Survived</th>\n",
       "      <th>Pclass</th>\n",
       "      <th>Name</th>\n",
       "      <th>Sex</th>\n",
       "      <th>Age</th>\n",
       "      <th>SibSp</th>\n",
       "      <th>Parch</th>\n",
       "      <th>Ticket</th>\n",
       "      <th>Fare</th>\n",
       "      <th>Cabin</th>\n",
       "      <th>Embarked</th>\n",
       "      <th>Title</th>\n",
       "      <th>Child</th>\n",
       "      <th>Has_Cabin</th>\n",
       "      <th>Title_Cleaned</th>\n",
       "      <th>Has_Age</th>\n",
       "    </tr>\n",
       "  </thead>\n",
       "  <tbody>\n",
       "    <tr>\n",
       "      <th>7</th>\n",
       "      <td>8</td>\n",
       "      <td>0</td>\n",
       "      <td>3</td>\n",
       "      <td>Palsson, Master. Gosta Leonard</td>\n",
       "      <td>male</td>\n",
       "      <td>2.00</td>\n",
       "      <td>3</td>\n",
       "      <td>1</td>\n",
       "      <td>349909</td>\n",
       "      <td>21.0750</td>\n",
       "      <td>NaN</td>\n",
       "      <td>S</td>\n",
       "      <td>Master</td>\n",
       "      <td>True</td>\n",
       "      <td>0</td>\n",
       "      <td>Master</td>\n",
       "      <td>True</td>\n",
       "    </tr>\n",
       "    <tr>\n",
       "      <th>10</th>\n",
       "      <td>11</td>\n",
       "      <td>1</td>\n",
       "      <td>3</td>\n",
       "      <td>Sandstrom, Miss. Marguerite Rut</td>\n",
       "      <td>female</td>\n",
       "      <td>4.00</td>\n",
       "      <td>1</td>\n",
       "      <td>1</td>\n",
       "      <td>PP 9549</td>\n",
       "      <td>16.7000</td>\n",
       "      <td>G6</td>\n",
       "      <td>S</td>\n",
       "      <td>Miss</td>\n",
       "      <td>True</td>\n",
       "      <td>1</td>\n",
       "      <td>Miss</td>\n",
       "      <td>True</td>\n",
       "    </tr>\n",
       "    <tr>\n",
       "      <th>16</th>\n",
       "      <td>17</td>\n",
       "      <td>0</td>\n",
       "      <td>3</td>\n",
       "      <td>Rice, Master. Eugene</td>\n",
       "      <td>male</td>\n",
       "      <td>2.00</td>\n",
       "      <td>4</td>\n",
       "      <td>1</td>\n",
       "      <td>382652</td>\n",
       "      <td>29.1250</td>\n",
       "      <td>NaN</td>\n",
       "      <td>Q</td>\n",
       "      <td>Master</td>\n",
       "      <td>True</td>\n",
       "      <td>0</td>\n",
       "      <td>Master</td>\n",
       "      <td>True</td>\n",
       "    </tr>\n",
       "    <tr>\n",
       "      <th>43</th>\n",
       "      <td>44</td>\n",
       "      <td>1</td>\n",
       "      <td>2</td>\n",
       "      <td>Laroche, Miss. Simonne Marie Anne Andree</td>\n",
       "      <td>female</td>\n",
       "      <td>3.00</td>\n",
       "      <td>1</td>\n",
       "      <td>2</td>\n",
       "      <td>SC/Paris 2123</td>\n",
       "      <td>41.5792</td>\n",
       "      <td>NaN</td>\n",
       "      <td>C</td>\n",
       "      <td>Miss</td>\n",
       "      <td>True</td>\n",
       "      <td>0</td>\n",
       "      <td>Miss</td>\n",
       "      <td>True</td>\n",
       "    </tr>\n",
       "    <tr>\n",
       "      <th>58</th>\n",
       "      <td>59</td>\n",
       "      <td>1</td>\n",
       "      <td>2</td>\n",
       "      <td>West, Miss. Constance Mirium</td>\n",
       "      <td>female</td>\n",
       "      <td>5.00</td>\n",
       "      <td>1</td>\n",
       "      <td>2</td>\n",
       "      <td>C.A. 34651</td>\n",
       "      <td>27.7500</td>\n",
       "      <td>NaN</td>\n",
       "      <td>S</td>\n",
       "      <td>Miss</td>\n",
       "      <td>True</td>\n",
       "      <td>0</td>\n",
       "      <td>Miss</td>\n",
       "      <td>True</td>\n",
       "    </tr>\n",
       "    <tr>\n",
       "      <th>63</th>\n",
       "      <td>64</td>\n",
       "      <td>0</td>\n",
       "      <td>3</td>\n",
       "      <td>Skoog, Master. Harald</td>\n",
       "      <td>male</td>\n",
       "      <td>4.00</td>\n",
       "      <td>3</td>\n",
       "      <td>2</td>\n",
       "      <td>347088</td>\n",
       "      <td>27.9000</td>\n",
       "      <td>NaN</td>\n",
       "      <td>S</td>\n",
       "      <td>Master</td>\n",
       "      <td>True</td>\n",
       "      <td>0</td>\n",
       "      <td>Master</td>\n",
       "      <td>True</td>\n",
       "    </tr>\n",
       "    <tr>\n",
       "      <th>78</th>\n",
       "      <td>79</td>\n",
       "      <td>1</td>\n",
       "      <td>2</td>\n",
       "      <td>Caldwell, Master. Alden Gates</td>\n",
       "      <td>male</td>\n",
       "      <td>0.83</td>\n",
       "      <td>0</td>\n",
       "      <td>2</td>\n",
       "      <td>248738</td>\n",
       "      <td>29.0000</td>\n",
       "      <td>NaN</td>\n",
       "      <td>S</td>\n",
       "      <td>Master</td>\n",
       "      <td>True</td>\n",
       "      <td>0</td>\n",
       "      <td>Master</td>\n",
       "      <td>True</td>\n",
       "    </tr>\n",
       "    <tr>\n",
       "      <th>119</th>\n",
       "      <td>120</td>\n",
       "      <td>0</td>\n",
       "      <td>3</td>\n",
       "      <td>Andersson, Miss. Ellis Anna Maria</td>\n",
       "      <td>female</td>\n",
       "      <td>2.00</td>\n",
       "      <td>4</td>\n",
       "      <td>2</td>\n",
       "      <td>347082</td>\n",
       "      <td>31.2750</td>\n",
       "      <td>NaN</td>\n",
       "      <td>S</td>\n",
       "      <td>Miss</td>\n",
       "      <td>True</td>\n",
       "      <td>0</td>\n",
       "      <td>Miss</td>\n",
       "      <td>True</td>\n",
       "    </tr>\n",
       "    <tr>\n",
       "      <th>164</th>\n",
       "      <td>165</td>\n",
       "      <td>0</td>\n",
       "      <td>3</td>\n",
       "      <td>Panula, Master. Eino Viljami</td>\n",
       "      <td>male</td>\n",
       "      <td>1.00</td>\n",
       "      <td>4</td>\n",
       "      <td>1</td>\n",
       "      <td>3101295</td>\n",
       "      <td>39.6875</td>\n",
       "      <td>NaN</td>\n",
       "      <td>S</td>\n",
       "      <td>Master</td>\n",
       "      <td>True</td>\n",
       "      <td>0</td>\n",
       "      <td>Master</td>\n",
       "      <td>True</td>\n",
       "    </tr>\n",
       "    <tr>\n",
       "      <th>171</th>\n",
       "      <td>172</td>\n",
       "      <td>0</td>\n",
       "      <td>3</td>\n",
       "      <td>Rice, Master. Arthur</td>\n",
       "      <td>male</td>\n",
       "      <td>4.00</td>\n",
       "      <td>4</td>\n",
       "      <td>1</td>\n",
       "      <td>382652</td>\n",
       "      <td>29.1250</td>\n",
       "      <td>NaN</td>\n",
       "      <td>Q</td>\n",
       "      <td>Master</td>\n",
       "      <td>True</td>\n",
       "      <td>0</td>\n",
       "      <td>Master</td>\n",
       "      <td>True</td>\n",
       "    </tr>\n",
       "    <tr>\n",
       "      <th>172</th>\n",
       "      <td>173</td>\n",
       "      <td>1</td>\n",
       "      <td>3</td>\n",
       "      <td>Johnson, Miss. Eleanor Ileen</td>\n",
       "      <td>female</td>\n",
       "      <td>1.00</td>\n",
       "      <td>1</td>\n",
       "      <td>1</td>\n",
       "      <td>347742</td>\n",
       "      <td>11.1333</td>\n",
       "      <td>NaN</td>\n",
       "      <td>S</td>\n",
       "      <td>Miss</td>\n",
       "      <td>True</td>\n",
       "      <td>0</td>\n",
       "      <td>Miss</td>\n",
       "      <td>True</td>\n",
       "    </tr>\n",
       "    <tr>\n",
       "      <th>183</th>\n",
       "      <td>184</td>\n",
       "      <td>1</td>\n",
       "      <td>2</td>\n",
       "      <td>Becker, Master. Richard F</td>\n",
       "      <td>male</td>\n",
       "      <td>1.00</td>\n",
       "      <td>2</td>\n",
       "      <td>1</td>\n",
       "      <td>230136</td>\n",
       "      <td>39.0000</td>\n",
       "      <td>F4</td>\n",
       "      <td>S</td>\n",
       "      <td>Master</td>\n",
       "      <td>True</td>\n",
       "      <td>1</td>\n",
       "      <td>Master</td>\n",
       "      <td>True</td>\n",
       "    </tr>\n",
       "    <tr>\n",
       "      <th>184</th>\n",
       "      <td>185</td>\n",
       "      <td>1</td>\n",
       "      <td>3</td>\n",
       "      <td>Kink-Heilmann, Miss. Luise Gretchen</td>\n",
       "      <td>female</td>\n",
       "      <td>4.00</td>\n",
       "      <td>0</td>\n",
       "      <td>2</td>\n",
       "      <td>315153</td>\n",
       "      <td>22.0250</td>\n",
       "      <td>NaN</td>\n",
       "      <td>S</td>\n",
       "      <td>Miss</td>\n",
       "      <td>True</td>\n",
       "      <td>0</td>\n",
       "      <td>Miss</td>\n",
       "      <td>True</td>\n",
       "    </tr>\n",
       "    <tr>\n",
       "      <th>193</th>\n",
       "      <td>194</td>\n",
       "      <td>1</td>\n",
       "      <td>2</td>\n",
       "      <td>Navratil, Master. Michel M</td>\n",
       "      <td>male</td>\n",
       "      <td>3.00</td>\n",
       "      <td>1</td>\n",
       "      <td>1</td>\n",
       "      <td>230080</td>\n",
       "      <td>26.0000</td>\n",
       "      <td>F2</td>\n",
       "      <td>S</td>\n",
       "      <td>Master</td>\n",
       "      <td>True</td>\n",
       "      <td>1</td>\n",
       "      <td>Master</td>\n",
       "      <td>True</td>\n",
       "    </tr>\n",
       "    <tr>\n",
       "      <th>205</th>\n",
       "      <td>206</td>\n",
       "      <td>0</td>\n",
       "      <td>3</td>\n",
       "      <td>Strom, Miss. Telma Matilda</td>\n",
       "      <td>female</td>\n",
       "      <td>2.00</td>\n",
       "      <td>0</td>\n",
       "      <td>1</td>\n",
       "      <td>347054</td>\n",
       "      <td>10.4625</td>\n",
       "      <td>G6</td>\n",
       "      <td>S</td>\n",
       "      <td>Miss</td>\n",
       "      <td>True</td>\n",
       "      <td>1</td>\n",
       "      <td>Miss</td>\n",
       "      <td>True</td>\n",
       "    </tr>\n",
       "    <tr>\n",
       "      <th>233</th>\n",
       "      <td>234</td>\n",
       "      <td>1</td>\n",
       "      <td>3</td>\n",
       "      <td>Asplund, Miss. Lillian Gertrud</td>\n",
       "      <td>female</td>\n",
       "      <td>5.00</td>\n",
       "      <td>4</td>\n",
       "      <td>2</td>\n",
       "      <td>347077</td>\n",
       "      <td>31.3875</td>\n",
       "      <td>NaN</td>\n",
       "      <td>S</td>\n",
       "      <td>Miss</td>\n",
       "      <td>True</td>\n",
       "      <td>0</td>\n",
       "      <td>Miss</td>\n",
       "      <td>True</td>\n",
       "    </tr>\n",
       "    <tr>\n",
       "      <th>261</th>\n",
       "      <td>262</td>\n",
       "      <td>1</td>\n",
       "      <td>3</td>\n",
       "      <td>Asplund, Master. Edvin Rojj Felix</td>\n",
       "      <td>male</td>\n",
       "      <td>3.00</td>\n",
       "      <td>4</td>\n",
       "      <td>2</td>\n",
       "      <td>347077</td>\n",
       "      <td>31.3875</td>\n",
       "      <td>NaN</td>\n",
       "      <td>S</td>\n",
       "      <td>Master</td>\n",
       "      <td>True</td>\n",
       "      <td>0</td>\n",
       "      <td>Master</td>\n",
       "      <td>True</td>\n",
       "    </tr>\n",
       "    <tr>\n",
       "      <th>297</th>\n",
       "      <td>298</td>\n",
       "      <td>0</td>\n",
       "      <td>1</td>\n",
       "      <td>Allison, Miss. Helen Loraine</td>\n",
       "      <td>female</td>\n",
       "      <td>2.00</td>\n",
       "      <td>1</td>\n",
       "      <td>2</td>\n",
       "      <td>113781</td>\n",
       "      <td>151.5500</td>\n",
       "      <td>C22 C26</td>\n",
       "      <td>S</td>\n",
       "      <td>Miss</td>\n",
       "      <td>True</td>\n",
       "      <td>1</td>\n",
       "      <td>Miss</td>\n",
       "      <td>True</td>\n",
       "    </tr>\n",
       "    <tr>\n",
       "      <th>305</th>\n",
       "      <td>306</td>\n",
       "      <td>1</td>\n",
       "      <td>1</td>\n",
       "      <td>Allison, Master. Hudson Trevor</td>\n",
       "      <td>male</td>\n",
       "      <td>0.92</td>\n",
       "      <td>1</td>\n",
       "      <td>2</td>\n",
       "      <td>113781</td>\n",
       "      <td>151.5500</td>\n",
       "      <td>C22 C26</td>\n",
       "      <td>S</td>\n",
       "      <td>Master</td>\n",
       "      <td>True</td>\n",
       "      <td>1</td>\n",
       "      <td>Master</td>\n",
       "      <td>True</td>\n",
       "    </tr>\n",
       "    <tr>\n",
       "      <th>340</th>\n",
       "      <td>341</td>\n",
       "      <td>1</td>\n",
       "      <td>2</td>\n",
       "      <td>Navratil, Master. Edmond Roger</td>\n",
       "      <td>male</td>\n",
       "      <td>2.00</td>\n",
       "      <td>1</td>\n",
       "      <td>1</td>\n",
       "      <td>230080</td>\n",
       "      <td>26.0000</td>\n",
       "      <td>F2</td>\n",
       "      <td>S</td>\n",
       "      <td>Master</td>\n",
       "      <td>True</td>\n",
       "      <td>1</td>\n",
       "      <td>Master</td>\n",
       "      <td>True</td>\n",
       "    </tr>\n",
       "    <tr>\n",
       "      <th>348</th>\n",
       "      <td>349</td>\n",
       "      <td>1</td>\n",
       "      <td>3</td>\n",
       "      <td>Coutts, Master. William Loch \"William\"</td>\n",
       "      <td>male</td>\n",
       "      <td>3.00</td>\n",
       "      <td>1</td>\n",
       "      <td>1</td>\n",
       "      <td>C.A. 37671</td>\n",
       "      <td>15.9000</td>\n",
       "      <td>NaN</td>\n",
       "      <td>S</td>\n",
       "      <td>Master</td>\n",
       "      <td>True</td>\n",
       "      <td>0</td>\n",
       "      <td>Master</td>\n",
       "      <td>True</td>\n",
       "    </tr>\n",
       "    <tr>\n",
       "      <th>374</th>\n",
       "      <td>375</td>\n",
       "      <td>0</td>\n",
       "      <td>3</td>\n",
       "      <td>Palsson, Miss. Stina Viola</td>\n",
       "      <td>female</td>\n",
       "      <td>3.00</td>\n",
       "      <td>3</td>\n",
       "      <td>1</td>\n",
       "      <td>349909</td>\n",
       "      <td>21.0750</td>\n",
       "      <td>NaN</td>\n",
       "      <td>S</td>\n",
       "      <td>Miss</td>\n",
       "      <td>True</td>\n",
       "      <td>0</td>\n",
       "      <td>Miss</td>\n",
       "      <td>True</td>\n",
       "    </tr>\n",
       "    <tr>\n",
       "      <th>381</th>\n",
       "      <td>382</td>\n",
       "      <td>1</td>\n",
       "      <td>3</td>\n",
       "      <td>Nakid, Miss. Maria (\"Mary\")</td>\n",
       "      <td>female</td>\n",
       "      <td>1.00</td>\n",
       "      <td>0</td>\n",
       "      <td>2</td>\n",
       "      <td>2653</td>\n",
       "      <td>15.7417</td>\n",
       "      <td>NaN</td>\n",
       "      <td>C</td>\n",
       "      <td>Miss</td>\n",
       "      <td>True</td>\n",
       "      <td>0</td>\n",
       "      <td>Miss</td>\n",
       "      <td>True</td>\n",
       "    </tr>\n",
       "    <tr>\n",
       "      <th>386</th>\n",
       "      <td>387</td>\n",
       "      <td>0</td>\n",
       "      <td>3</td>\n",
       "      <td>Goodwin, Master. Sidney Leonard</td>\n",
       "      <td>male</td>\n",
       "      <td>1.00</td>\n",
       "      <td>5</td>\n",
       "      <td>2</td>\n",
       "      <td>CA 2144</td>\n",
       "      <td>46.9000</td>\n",
       "      <td>NaN</td>\n",
       "      <td>S</td>\n",
       "      <td>Master</td>\n",
       "      <td>True</td>\n",
       "      <td>0</td>\n",
       "      <td>Master</td>\n",
       "      <td>True</td>\n",
       "    </tr>\n",
       "    <tr>\n",
       "      <th>407</th>\n",
       "      <td>408</td>\n",
       "      <td>1</td>\n",
       "      <td>2</td>\n",
       "      <td>Richards, Master. William Rowe</td>\n",
       "      <td>male</td>\n",
       "      <td>3.00</td>\n",
       "      <td>1</td>\n",
       "      <td>1</td>\n",
       "      <td>29106</td>\n",
       "      <td>18.7500</td>\n",
       "      <td>NaN</td>\n",
       "      <td>S</td>\n",
       "      <td>Master</td>\n",
       "      <td>True</td>\n",
       "      <td>0</td>\n",
       "      <td>Master</td>\n",
       "      <td>True</td>\n",
       "    </tr>\n",
       "    <tr>\n",
       "      <th>445</th>\n",
       "      <td>446</td>\n",
       "      <td>1</td>\n",
       "      <td>1</td>\n",
       "      <td>Dodge, Master. Washington</td>\n",
       "      <td>male</td>\n",
       "      <td>4.00</td>\n",
       "      <td>0</td>\n",
       "      <td>2</td>\n",
       "      <td>33638</td>\n",
       "      <td>81.8583</td>\n",
       "      <td>A34</td>\n",
       "      <td>S</td>\n",
       "      <td>Master</td>\n",
       "      <td>True</td>\n",
       "      <td>1</td>\n",
       "      <td>Master</td>\n",
       "      <td>True</td>\n",
       "    </tr>\n",
       "    <tr>\n",
       "      <th>448</th>\n",
       "      <td>449</td>\n",
       "      <td>1</td>\n",
       "      <td>3</td>\n",
       "      <td>Baclini, Miss. Marie Catherine</td>\n",
       "      <td>female</td>\n",
       "      <td>5.00</td>\n",
       "      <td>2</td>\n",
       "      <td>1</td>\n",
       "      <td>2666</td>\n",
       "      <td>19.2583</td>\n",
       "      <td>NaN</td>\n",
       "      <td>C</td>\n",
       "      <td>Miss</td>\n",
       "      <td>True</td>\n",
       "      <td>0</td>\n",
       "      <td>Miss</td>\n",
       "      <td>True</td>\n",
       "    </tr>\n",
       "    <tr>\n",
       "      <th>469</th>\n",
       "      <td>470</td>\n",
       "      <td>1</td>\n",
       "      <td>3</td>\n",
       "      <td>Baclini, Miss. Helene Barbara</td>\n",
       "      <td>female</td>\n",
       "      <td>0.75</td>\n",
       "      <td>2</td>\n",
       "      <td>1</td>\n",
       "      <td>2666</td>\n",
       "      <td>19.2583</td>\n",
       "      <td>NaN</td>\n",
       "      <td>C</td>\n",
       "      <td>Miss</td>\n",
       "      <td>True</td>\n",
       "      <td>0</td>\n",
       "      <td>Miss</td>\n",
       "      <td>True</td>\n",
       "    </tr>\n",
       "    <tr>\n",
       "      <th>479</th>\n",
       "      <td>480</td>\n",
       "      <td>1</td>\n",
       "      <td>3</td>\n",
       "      <td>Hirvonen, Miss. Hildur E</td>\n",
       "      <td>female</td>\n",
       "      <td>2.00</td>\n",
       "      <td>0</td>\n",
       "      <td>1</td>\n",
       "      <td>3101298</td>\n",
       "      <td>12.2875</td>\n",
       "      <td>NaN</td>\n",
       "      <td>S</td>\n",
       "      <td>Miss</td>\n",
       "      <td>True</td>\n",
       "      <td>0</td>\n",
       "      <td>Miss</td>\n",
       "      <td>True</td>\n",
       "    </tr>\n",
       "    <tr>\n",
       "      <th>530</th>\n",
       "      <td>531</td>\n",
       "      <td>1</td>\n",
       "      <td>2</td>\n",
       "      <td>Quick, Miss. Phyllis May</td>\n",
       "      <td>female</td>\n",
       "      <td>2.00</td>\n",
       "      <td>1</td>\n",
       "      <td>1</td>\n",
       "      <td>26360</td>\n",
       "      <td>26.0000</td>\n",
       "      <td>NaN</td>\n",
       "      <td>S</td>\n",
       "      <td>Miss</td>\n",
       "      <td>True</td>\n",
       "      <td>0</td>\n",
       "      <td>Miss</td>\n",
       "      <td>True</td>\n",
       "    </tr>\n",
       "    <tr>\n",
       "      <th>618</th>\n",
       "      <td>619</td>\n",
       "      <td>1</td>\n",
       "      <td>2</td>\n",
       "      <td>Becker, Miss. Marion Louise</td>\n",
       "      <td>female</td>\n",
       "      <td>4.00</td>\n",
       "      <td>2</td>\n",
       "      <td>1</td>\n",
       "      <td>230136</td>\n",
       "      <td>39.0000</td>\n",
       "      <td>F4</td>\n",
       "      <td>S</td>\n",
       "      <td>Miss</td>\n",
       "      <td>True</td>\n",
       "      <td>1</td>\n",
       "      <td>Miss</td>\n",
       "      <td>True</td>\n",
       "    </tr>\n",
       "    <tr>\n",
       "      <th>642</th>\n",
       "      <td>643</td>\n",
       "      <td>0</td>\n",
       "      <td>3</td>\n",
       "      <td>Skoog, Miss. Margit Elizabeth</td>\n",
       "      <td>female</td>\n",
       "      <td>2.00</td>\n",
       "      <td>3</td>\n",
       "      <td>2</td>\n",
       "      <td>347088</td>\n",
       "      <td>27.9000</td>\n",
       "      <td>NaN</td>\n",
       "      <td>S</td>\n",
       "      <td>Miss</td>\n",
       "      <td>True</td>\n",
       "      <td>0</td>\n",
       "      <td>Miss</td>\n",
       "      <td>True</td>\n",
       "    </tr>\n",
       "    <tr>\n",
       "      <th>644</th>\n",
       "      <td>645</td>\n",
       "      <td>1</td>\n",
       "      <td>3</td>\n",
       "      <td>Baclini, Miss. Eugenie</td>\n",
       "      <td>female</td>\n",
       "      <td>0.75</td>\n",
       "      <td>2</td>\n",
       "      <td>1</td>\n",
       "      <td>2666</td>\n",
       "      <td>19.2583</td>\n",
       "      <td>NaN</td>\n",
       "      <td>C</td>\n",
       "      <td>Miss</td>\n",
       "      <td>True</td>\n",
       "      <td>0</td>\n",
       "      <td>Miss</td>\n",
       "      <td>True</td>\n",
       "    </tr>\n",
       "    <tr>\n",
       "      <th>691</th>\n",
       "      <td>692</td>\n",
       "      <td>1</td>\n",
       "      <td>3</td>\n",
       "      <td>Karun, Miss. Manca</td>\n",
       "      <td>female</td>\n",
       "      <td>4.00</td>\n",
       "      <td>0</td>\n",
       "      <td>1</td>\n",
       "      <td>349256</td>\n",
       "      <td>13.4167</td>\n",
       "      <td>NaN</td>\n",
       "      <td>C</td>\n",
       "      <td>Miss</td>\n",
       "      <td>True</td>\n",
       "      <td>0</td>\n",
       "      <td>Miss</td>\n",
       "      <td>True</td>\n",
       "    </tr>\n",
       "    <tr>\n",
       "      <th>750</th>\n",
       "      <td>751</td>\n",
       "      <td>1</td>\n",
       "      <td>2</td>\n",
       "      <td>Wells, Miss. Joan</td>\n",
       "      <td>female</td>\n",
       "      <td>4.00</td>\n",
       "      <td>1</td>\n",
       "      <td>1</td>\n",
       "      <td>29103</td>\n",
       "      <td>23.0000</td>\n",
       "      <td>NaN</td>\n",
       "      <td>S</td>\n",
       "      <td>Miss</td>\n",
       "      <td>True</td>\n",
       "      <td>0</td>\n",
       "      <td>Miss</td>\n",
       "      <td>True</td>\n",
       "    </tr>\n",
       "    <tr>\n",
       "      <th>755</th>\n",
       "      <td>756</td>\n",
       "      <td>1</td>\n",
       "      <td>2</td>\n",
       "      <td>Hamalainen, Master. Viljo</td>\n",
       "      <td>male</td>\n",
       "      <td>0.67</td>\n",
       "      <td>1</td>\n",
       "      <td>1</td>\n",
       "      <td>250649</td>\n",
       "      <td>14.5000</td>\n",
       "      <td>NaN</td>\n",
       "      <td>S</td>\n",
       "      <td>Master</td>\n",
       "      <td>True</td>\n",
       "      <td>0</td>\n",
       "      <td>Master</td>\n",
       "      <td>True</td>\n",
       "    </tr>\n",
       "    <tr>\n",
       "      <th>777</th>\n",
       "      <td>778</td>\n",
       "      <td>1</td>\n",
       "      <td>3</td>\n",
       "      <td>Emanuel, Miss. Virginia Ethel</td>\n",
       "      <td>female</td>\n",
       "      <td>5.00</td>\n",
       "      <td>0</td>\n",
       "      <td>0</td>\n",
       "      <td>364516</td>\n",
       "      <td>12.4750</td>\n",
       "      <td>NaN</td>\n",
       "      <td>S</td>\n",
       "      <td>Miss</td>\n",
       "      <td>True</td>\n",
       "      <td>0</td>\n",
       "      <td>Miss</td>\n",
       "      <td>True</td>\n",
       "    </tr>\n",
       "    <tr>\n",
       "      <th>788</th>\n",
       "      <td>789</td>\n",
       "      <td>1</td>\n",
       "      <td>3</td>\n",
       "      <td>Dean, Master. Bertram Vere</td>\n",
       "      <td>male</td>\n",
       "      <td>1.00</td>\n",
       "      <td>1</td>\n",
       "      <td>2</td>\n",
       "      <td>C.A. 2315</td>\n",
       "      <td>20.5750</td>\n",
       "      <td>NaN</td>\n",
       "      <td>S</td>\n",
       "      <td>Master</td>\n",
       "      <td>True</td>\n",
       "      <td>0</td>\n",
       "      <td>Master</td>\n",
       "      <td>True</td>\n",
       "    </tr>\n",
       "    <tr>\n",
       "      <th>803</th>\n",
       "      <td>804</td>\n",
       "      <td>1</td>\n",
       "      <td>3</td>\n",
       "      <td>Thomas, Master. Assad Alexander</td>\n",
       "      <td>male</td>\n",
       "      <td>0.42</td>\n",
       "      <td>0</td>\n",
       "      <td>1</td>\n",
       "      <td>2625</td>\n",
       "      <td>8.5167</td>\n",
       "      <td>NaN</td>\n",
       "      <td>C</td>\n",
       "      <td>Master</td>\n",
       "      <td>True</td>\n",
       "      <td>0</td>\n",
       "      <td>Master</td>\n",
       "      <td>True</td>\n",
       "    </tr>\n",
       "    <tr>\n",
       "      <th>824</th>\n",
       "      <td>825</td>\n",
       "      <td>0</td>\n",
       "      <td>3</td>\n",
       "      <td>Panula, Master. Urho Abraham</td>\n",
       "      <td>male</td>\n",
       "      <td>2.00</td>\n",
       "      <td>4</td>\n",
       "      <td>1</td>\n",
       "      <td>3101295</td>\n",
       "      <td>39.6875</td>\n",
       "      <td>NaN</td>\n",
       "      <td>S</td>\n",
       "      <td>Master</td>\n",
       "      <td>True</td>\n",
       "      <td>0</td>\n",
       "      <td>Master</td>\n",
       "      <td>True</td>\n",
       "    </tr>\n",
       "    <tr>\n",
       "      <th>827</th>\n",
       "      <td>828</td>\n",
       "      <td>1</td>\n",
       "      <td>2</td>\n",
       "      <td>Mallet, Master. Andre</td>\n",
       "      <td>male</td>\n",
       "      <td>1.00</td>\n",
       "      <td>0</td>\n",
       "      <td>2</td>\n",
       "      <td>S.C./PARIS 2079</td>\n",
       "      <td>37.0042</td>\n",
       "      <td>NaN</td>\n",
       "      <td>C</td>\n",
       "      <td>Master</td>\n",
       "      <td>True</td>\n",
       "      <td>0</td>\n",
       "      <td>Master</td>\n",
       "      <td>True</td>\n",
       "    </tr>\n",
       "    <tr>\n",
       "      <th>831</th>\n",
       "      <td>832</td>\n",
       "      <td>1</td>\n",
       "      <td>2</td>\n",
       "      <td>Richards, Master. George Sibley</td>\n",
       "      <td>male</td>\n",
       "      <td>0.83</td>\n",
       "      <td>1</td>\n",
       "      <td>1</td>\n",
       "      <td>29106</td>\n",
       "      <td>18.7500</td>\n",
       "      <td>NaN</td>\n",
       "      <td>S</td>\n",
       "      <td>Master</td>\n",
       "      <td>True</td>\n",
       "      <td>0</td>\n",
       "      <td>Master</td>\n",
       "      <td>True</td>\n",
       "    </tr>\n",
       "    <tr>\n",
       "      <th>850</th>\n",
       "      <td>851</td>\n",
       "      <td>0</td>\n",
       "      <td>3</td>\n",
       "      <td>Andersson, Master. Sigvard Harald Elias</td>\n",
       "      <td>male</td>\n",
       "      <td>4.00</td>\n",
       "      <td>4</td>\n",
       "      <td>2</td>\n",
       "      <td>347082</td>\n",
       "      <td>31.2750</td>\n",
       "      <td>NaN</td>\n",
       "      <td>S</td>\n",
       "      <td>Master</td>\n",
       "      <td>True</td>\n",
       "      <td>0</td>\n",
       "      <td>Master</td>\n",
       "      <td>True</td>\n",
       "    </tr>\n",
       "    <tr>\n",
       "      <th>869</th>\n",
       "      <td>870</td>\n",
       "      <td>1</td>\n",
       "      <td>3</td>\n",
       "      <td>Johnson, Master. Harold Theodor</td>\n",
       "      <td>male</td>\n",
       "      <td>4.00</td>\n",
       "      <td>1</td>\n",
       "      <td>1</td>\n",
       "      <td>347742</td>\n",
       "      <td>11.1333</td>\n",
       "      <td>NaN</td>\n",
       "      <td>S</td>\n",
       "      <td>Master</td>\n",
       "      <td>True</td>\n",
       "      <td>0</td>\n",
       "      <td>Master</td>\n",
       "      <td>True</td>\n",
       "    </tr>\n",
       "  </tbody>\n",
       "</table>\n",
       "</div>"
      ],
      "text/plain": [
       "     PassengerId  Survived  Pclass                                      Name  \\\n",
       "7              8         0       3            Palsson, Master. Gosta Leonard   \n",
       "10            11         1       3           Sandstrom, Miss. Marguerite Rut   \n",
       "16            17         0       3                      Rice, Master. Eugene   \n",
       "43            44         1       2  Laroche, Miss. Simonne Marie Anne Andree   \n",
       "58            59         1       2              West, Miss. Constance Mirium   \n",
       "63            64         0       3                     Skoog, Master. Harald   \n",
       "78            79         1       2             Caldwell, Master. Alden Gates   \n",
       "119          120         0       3         Andersson, Miss. Ellis Anna Maria   \n",
       "164          165         0       3              Panula, Master. Eino Viljami   \n",
       "171          172         0       3                      Rice, Master. Arthur   \n",
       "172          173         1       3              Johnson, Miss. Eleanor Ileen   \n",
       "183          184         1       2                 Becker, Master. Richard F   \n",
       "184          185         1       3       Kink-Heilmann, Miss. Luise Gretchen   \n",
       "193          194         1       2                Navratil, Master. Michel M   \n",
       "205          206         0       3                Strom, Miss. Telma Matilda   \n",
       "233          234         1       3            Asplund, Miss. Lillian Gertrud   \n",
       "261          262         1       3         Asplund, Master. Edvin Rojj Felix   \n",
       "297          298         0       1              Allison, Miss. Helen Loraine   \n",
       "305          306         1       1            Allison, Master. Hudson Trevor   \n",
       "340          341         1       2            Navratil, Master. Edmond Roger   \n",
       "348          349         1       3    Coutts, Master. William Loch \"William\"   \n",
       "374          375         0       3                Palsson, Miss. Stina Viola   \n",
       "381          382         1       3               Nakid, Miss. Maria (\"Mary\")   \n",
       "386          387         0       3           Goodwin, Master. Sidney Leonard   \n",
       "407          408         1       2            Richards, Master. William Rowe   \n",
       "445          446         1       1                 Dodge, Master. Washington   \n",
       "448          449         1       3            Baclini, Miss. Marie Catherine   \n",
       "469          470         1       3             Baclini, Miss. Helene Barbara   \n",
       "479          480         1       3                  Hirvonen, Miss. Hildur E   \n",
       "530          531         1       2                  Quick, Miss. Phyllis May   \n",
       "618          619         1       2               Becker, Miss. Marion Louise   \n",
       "642          643         0       3             Skoog, Miss. Margit Elizabeth   \n",
       "644          645         1       3                    Baclini, Miss. Eugenie   \n",
       "691          692         1       3                        Karun, Miss. Manca   \n",
       "750          751         1       2                         Wells, Miss. Joan   \n",
       "755          756         1       2                 Hamalainen, Master. Viljo   \n",
       "777          778         1       3             Emanuel, Miss. Virginia Ethel   \n",
       "788          789         1       3                Dean, Master. Bertram Vere   \n",
       "803          804         1       3           Thomas, Master. Assad Alexander   \n",
       "824          825         0       3              Panula, Master. Urho Abraham   \n",
       "827          828         1       2                     Mallet, Master. Andre   \n",
       "831          832         1       2           Richards, Master. George Sibley   \n",
       "850          851         0       3   Andersson, Master. Sigvard Harald Elias   \n",
       "869          870         1       3           Johnson, Master. Harold Theodor   \n",
       "\n",
       "        Sex   Age  SibSp  Parch           Ticket      Fare    Cabin Embarked  \\\n",
       "7      male  2.00      3      1           349909   21.0750      NaN        S   \n",
       "10   female  4.00      1      1          PP 9549   16.7000       G6        S   \n",
       "16     male  2.00      4      1           382652   29.1250      NaN        Q   \n",
       "43   female  3.00      1      2    SC/Paris 2123   41.5792      NaN        C   \n",
       "58   female  5.00      1      2       C.A. 34651   27.7500      NaN        S   \n",
       "63     male  4.00      3      2           347088   27.9000      NaN        S   \n",
       "78     male  0.83      0      2           248738   29.0000      NaN        S   \n",
       "119  female  2.00      4      2           347082   31.2750      NaN        S   \n",
       "164    male  1.00      4      1          3101295   39.6875      NaN        S   \n",
       "171    male  4.00      4      1           382652   29.1250      NaN        Q   \n",
       "172  female  1.00      1      1           347742   11.1333      NaN        S   \n",
       "183    male  1.00      2      1           230136   39.0000       F4        S   \n",
       "184  female  4.00      0      2           315153   22.0250      NaN        S   \n",
       "193    male  3.00      1      1           230080   26.0000       F2        S   \n",
       "205  female  2.00      0      1           347054   10.4625       G6        S   \n",
       "233  female  5.00      4      2           347077   31.3875      NaN        S   \n",
       "261    male  3.00      4      2           347077   31.3875      NaN        S   \n",
       "297  female  2.00      1      2           113781  151.5500  C22 C26        S   \n",
       "305    male  0.92      1      2           113781  151.5500  C22 C26        S   \n",
       "340    male  2.00      1      1           230080   26.0000       F2        S   \n",
       "348    male  3.00      1      1       C.A. 37671   15.9000      NaN        S   \n",
       "374  female  3.00      3      1           349909   21.0750      NaN        S   \n",
       "381  female  1.00      0      2             2653   15.7417      NaN        C   \n",
       "386    male  1.00      5      2          CA 2144   46.9000      NaN        S   \n",
       "407    male  3.00      1      1            29106   18.7500      NaN        S   \n",
       "445    male  4.00      0      2            33638   81.8583      A34        S   \n",
       "448  female  5.00      2      1             2666   19.2583      NaN        C   \n",
       "469  female  0.75      2      1             2666   19.2583      NaN        C   \n",
       "479  female  2.00      0      1          3101298   12.2875      NaN        S   \n",
       "530  female  2.00      1      1            26360   26.0000      NaN        S   \n",
       "618  female  4.00      2      1           230136   39.0000       F4        S   \n",
       "642  female  2.00      3      2           347088   27.9000      NaN        S   \n",
       "644  female  0.75      2      1             2666   19.2583      NaN        C   \n",
       "691  female  4.00      0      1           349256   13.4167      NaN        C   \n",
       "750  female  4.00      1      1            29103   23.0000      NaN        S   \n",
       "755    male  0.67      1      1           250649   14.5000      NaN        S   \n",
       "777  female  5.00      0      0           364516   12.4750      NaN        S   \n",
       "788    male  1.00      1      2        C.A. 2315   20.5750      NaN        S   \n",
       "803    male  0.42      0      1             2625    8.5167      NaN        C   \n",
       "824    male  2.00      4      1          3101295   39.6875      NaN        S   \n",
       "827    male  1.00      0      2  S.C./PARIS 2079   37.0042      NaN        C   \n",
       "831    male  0.83      1      1            29106   18.7500      NaN        S   \n",
       "850    male  4.00      4      2           347082   31.2750      NaN        S   \n",
       "869    male  4.00      1      1           347742   11.1333      NaN        S   \n",
       "\n",
       "       Title  Child  Has_Cabin Title_Cleaned  Has_Age  \n",
       "7     Master   True          0        Master     True  \n",
       "10      Miss   True          1          Miss     True  \n",
       "16    Master   True          0        Master     True  \n",
       "43      Miss   True          0          Miss     True  \n",
       "58      Miss   True          0          Miss     True  \n",
       "63    Master   True          0        Master     True  \n",
       "78    Master   True          0        Master     True  \n",
       "119     Miss   True          0          Miss     True  \n",
       "164   Master   True          0        Master     True  \n",
       "171   Master   True          0        Master     True  \n",
       "172     Miss   True          0          Miss     True  \n",
       "183   Master   True          1        Master     True  \n",
       "184     Miss   True          0          Miss     True  \n",
       "193   Master   True          1        Master     True  \n",
       "205     Miss   True          1          Miss     True  \n",
       "233     Miss   True          0          Miss     True  \n",
       "261   Master   True          0        Master     True  \n",
       "297     Miss   True          1          Miss     True  \n",
       "305   Master   True          1        Master     True  \n",
       "340   Master   True          1        Master     True  \n",
       "348   Master   True          0        Master     True  \n",
       "374     Miss   True          0          Miss     True  \n",
       "381     Miss   True          0          Miss     True  \n",
       "386   Master   True          0        Master     True  \n",
       "407   Master   True          0        Master     True  \n",
       "445   Master   True          1        Master     True  \n",
       "448     Miss   True          0          Miss     True  \n",
       "469     Miss   True          0          Miss     True  \n",
       "479     Miss   True          0          Miss     True  \n",
       "530     Miss   True          0          Miss     True  \n",
       "618     Miss   True          1          Miss     True  \n",
       "642     Miss   True          0          Miss     True  \n",
       "644     Miss   True          0          Miss     True  \n",
       "691     Miss   True          0          Miss     True  \n",
       "750     Miss   True          0          Miss     True  \n",
       "755   Master   True          0        Master     True  \n",
       "777     Miss   True          0          Miss     True  \n",
       "788   Master   True          0        Master     True  \n",
       "803   Master   True          0        Master     True  \n",
       "824   Master   True          0        Master     True  \n",
       "827   Master   True          0        Master     True  \n",
       "831   Master   True          0        Master     True  \n",
       "850   Master   True          0        Master     True  \n",
       "869   Master   True          0        Master     True  "
      ]
     },
     "execution_count": 28,
     "metadata": {},
     "output_type": "execute_result"
    }
   ],
   "source": [
    "train_data.loc[train_data['Age'] <= 5]"
   ]
  },
  {
   "cell_type": "markdown",
   "metadata": {},
   "source": [
    "I guess there were just a lot of children on this cruise"
   ]
  },
  {
   "cell_type": "code",
   "execution_count": 29,
   "metadata": {
    "code_folding": []
   },
   "outputs": [
    {
     "data": {
      "image/png": "[encoded data removed]",
      "text/plain": [
       "<Figure size 432x288 with 1 Axes>"
      ]
     },
     "metadata": {
      "needs_background": "light"
     },
     "output_type": "display_data"
    },
    {
     "data": {
      "image/png": "[encoded data removed]",
      "text/plain": [
       "<Figure size 432x288 with 1 Axes>"
      ]
     },
     "metadata": {
      "needs_background": "light"
     },
     "output_type": "display_data"
    },
    {
     "data": {
      "image/png": "[encoded data removed]",
      "text/plain": [
       "<Figure size 432x288 with 1 Axes>"
      ]
     },
     "metadata": {
      "needs_background": "light"
     },
     "output_type": "display_data"
    },
    {
     "data": {
      "image/png": "[encoded data removed]",
      "text/plain": [
       "<Figure size 432x288 with 1 Axes>"
      ]
     },
     "metadata": {
      "needs_background": "light"
     },
     "output_type": "display_data"
    },
    {
     "data": {
      "image/png": "[encoded data removed]",
      "text/plain": [
       "<Figure size 432x288 with 1 Axes>"
      ]
     },
     "metadata": {
      "needs_background": "light"
     },
     "output_type": "display_data"
    },
    {
     "data": {
      "image/png": "[encoded data removed]",
      "text/plain": [
       "<Figure size 432x288 with 1 Axes>"
      ]
     },
     "metadata": {
      "needs_background": "light"
     },
     "output_type": "display_data"
    },
    {
     "data": {
      "image/png": "[encoded data removed]",
      "text/plain": [
       "<Figure size 432x288 with 1 Axes>"
      ]
     },
     "metadata": {
      "needs_background": "light"
     },
     "output_type": "display_data"
    },
    {
     "data": {
      "image/png": "[encoded data removed]",
      "text/plain": [
       "<Figure size 432x288 with 1 Axes>"
      ]
     },
     "metadata": {
      "needs_background": "light"
     },
     "output_type": "display_data"
    },
    {
     "data": {
      "image/png": "[encoded data removed]",
      "text/plain": [
       "<Figure size 432x288 with 1 Axes>"
      ]
     },
     "metadata": {
      "needs_background": "light"
     },
     "output_type": "display_data"
    },
    {
     "data": {
      "image/png": "[encoded data removed]",
      "text/plain": [
       "<Figure size 432x288 with 1 Axes>"
      ]
     },
     "metadata": {
      "needs_background": "light"
     },
     "output_type": "display_data"
    }
   ],
   "source": [
    "for var in ['Survived','Pclass','Sex','SibSp','Parch','Embarked','Child','Has_Cabin','Title_Cleaned','Has_Age']:\n",
    "    sns.countplot(x=var,data=train_data)\n",
    "    plt.show()\n",
    "    plt.close()"
   ]
  },
  {
   "cell_type": "markdown",
   "metadata": {},
   "source": [
    "## Multivariate analysis"
   ]
  },
  {
   "cell_type": "code",
   "execution_count": 30,
   "metadata": {},
   "outputs": [
    {
     "data": {
      "text/html": [
       "<div>\n",
       "<style scoped>\n",
       "    .dataframe tbody tr th:only-of-type {\n",
       "        vertical-align: middle;\n",
       "    }\n",
       "\n",
       "    .dataframe tbody tr th {\n",
       "        vertical-align: top;\n",
       "    }\n",
       "\n",
       "    .dataframe thead th {\n",
       "        text-align: right;\n",
       "    }\n",
       "</style>\n",
       "<table border=\"1\" class=\"dataframe\">\n",
       "  <thead>\n",
       "    <tr style=\"text-align: right;\">\n",
       "      <th></th>\n",
       "      <th>PassengerId</th>\n",
       "      <th>Survived</th>\n",
       "      <th>Pclass</th>\n",
       "      <th>Name</th>\n",
       "      <th>Sex</th>\n",
       "      <th>Age</th>\n",
       "      <th>SibSp</th>\n",
       "      <th>Parch</th>\n",
       "      <th>Ticket</th>\n",
       "      <th>Fare</th>\n",
       "      <th>Cabin</th>\n",
       "      <th>Embarked</th>\n",
       "      <th>Title</th>\n",
       "      <th>Child</th>\n",
       "      <th>Has_Cabin</th>\n",
       "      <th>Title_Cleaned</th>\n",
       "      <th>Has_Age</th>\n",
       "    </tr>\n",
       "  </thead>\n",
       "  <tbody>\n",
       "    <tr>\n",
       "      <th>0</th>\n",
       "      <td>1</td>\n",
       "      <td>0</td>\n",
       "      <td>3</td>\n",
       "      <td>Braund, Mr. Owen Harris</td>\n",
       "      <td>male</td>\n",
       "      <td>22.0</td>\n",
       "      <td>1</td>\n",
       "      <td>0</td>\n",
       "      <td>A/5 21171</td>\n",
       "      <td>7.2500</td>\n",
       "      <td>NaN</td>\n",
       "      <td>S</td>\n",
       "      <td>Mr</td>\n",
       "      <td>False</td>\n",
       "      <td>0</td>\n",
       "      <td>Mr</td>\n",
       "      <td>True</td>\n",
       "    </tr>\n",
       "    <tr>\n",
       "      <th>1</th>\n",
       "      <td>2</td>\n",
       "      <td>1</td>\n",
       "      <td>1</td>\n",
       "      <td>Cumings, Mrs. John Bradley (Florence Briggs Th...</td>\n",
       "      <td>female</td>\n",
       "      <td>38.0</td>\n",
       "      <td>1</td>\n",
       "      <td>0</td>\n",
       "      <td>PC 17599</td>\n",
       "      <td>71.2833</td>\n",
       "      <td>C85</td>\n",
       "      <td>C</td>\n",
       "      <td>Mrs</td>\n",
       "      <td>False</td>\n",
       "      <td>1</td>\n",
       "      <td>Mrs</td>\n",
       "      <td>True</td>\n",
       "    </tr>\n",
       "    <tr>\n",
       "      <th>2</th>\n",
       "      <td>3</td>\n",
       "      <td>1</td>\n",
       "      <td>3</td>\n",
       "      <td>Heikkinen, Miss. Laina</td>\n",
       "      <td>female</td>\n",
       "      <td>26.0</td>\n",
       "      <td>0</td>\n",
       "      <td>0</td>\n",
       "      <td>STON/O2. 3101282</td>\n",
       "      <td>7.9250</td>\n",
       "      <td>NaN</td>\n",
       "      <td>S</td>\n",
       "      <td>Miss</td>\n",
       "      <td>False</td>\n",
       "      <td>0</td>\n",
       "      <td>Miss</td>\n",
       "      <td>True</td>\n",
       "    </tr>\n",
       "    <tr>\n",
       "      <th>3</th>\n",
       "      <td>4</td>\n",
       "      <td>1</td>\n",
       "      <td>1</td>\n",
       "      <td>Futrelle, Mrs. Jacques Heath (Lily May Peel)</td>\n",
       "      <td>female</td>\n",
       "      <td>35.0</td>\n",
       "      <td>1</td>\n",
       "      <td>0</td>\n",
       "      <td>113803</td>\n",
       "      <td>53.1000</td>\n",
       "      <td>C123</td>\n",
       "      <td>S</td>\n",
       "      <td>Mrs</td>\n",
       "      <td>False</td>\n",
       "      <td>1</td>\n",
       "      <td>Mrs</td>\n",
       "      <td>True</td>\n",
       "    </tr>\n",
       "    <tr>\n",
       "      <th>4</th>\n",
       "      <td>5</td>\n",
       "      <td>0</td>\n",
       "      <td>3</td>\n",
       "      <td>Allen, Mr. William Henry</td>\n",
       "      <td>male</td>\n",
       "      <td>35.0</td>\n",
       "      <td>0</td>\n",
       "      <td>0</td>\n",
       "      <td>373450</td>\n",
       "      <td>8.0500</td>\n",
       "      <td>NaN</td>\n",
       "      <td>S</td>\n",
       "      <td>Mr</td>\n",
       "      <td>False</td>\n",
       "      <td>0</td>\n",
       "      <td>Mr</td>\n",
       "      <td>True</td>\n",
       "    </tr>\n",
       "  </tbody>\n",
       "</table>\n",
       "</div>"
      ],
      "text/plain": [
       "   PassengerId  Survived  Pclass  \\\n",
       "0            1         0       3   \n",
       "1            2         1       1   \n",
       "2            3         1       3   \n",
       "3            4         1       1   \n",
       "4            5         0       3   \n",
       "\n",
       "                                                Name     Sex   Age  SibSp  \\\n",
       "0                            Braund, Mr. Owen Harris    male  22.0      1   \n",
       "1  Cumings, Mrs. John Bradley (Florence Briggs Th...  female  38.0      1   \n",
       "2                             Heikkinen, Miss. Laina  female  26.0      0   \n",
       "3       Futrelle, Mrs. Jacques Heath (Lily May Peel)  female  35.0      1   \n",
       "4                           Allen, Mr. William Henry    male  35.0      0   \n",
       "\n",
       "   Parch            Ticket     Fare Cabin Embarked  Title  Child  Has_Cabin  \\\n",
       "0      0         A/5 21171   7.2500   NaN        S     Mr  False          0   \n",
       "1      0          PC 17599  71.2833   C85        C    Mrs  False          1   \n",
       "2      0  STON/O2. 3101282   7.9250   NaN        S   Miss  False          0   \n",
       "3      0            113803  53.1000  C123        S    Mrs  False          1   \n",
       "4      0            373450   8.0500   NaN        S     Mr  False          0   \n",
       "\n",
       "  Title_Cleaned  Has_Age  \n",
       "0            Mr     True  \n",
       "1           Mrs     True  \n",
       "2          Miss     True  \n",
       "3           Mrs     True  \n",
       "4            Mr     True  "
      ]
     },
     "execution_count": 30,
     "metadata": {},
     "output_type": "execute_result"
    }
   ],
   "source": [
    "train_data.head()"
   ]
  },
  {
   "cell_type": "code",
   "execution_count": 31,
   "metadata": {},
   "outputs": [
    {
     "data": {
      "text/plain": [
       "<AxesSubplot:>"
      ]
     },
     "execution_count": 31,
     "metadata": {},
     "output_type": "execute_result"
    },
    {
     "data": {
      "image/png": "[encoded data removed]",
      "text/plain": [
       "<Figure size 432x288 with 2 Axes>"
      ]
     },
     "metadata": {
      "needs_background": "light"
     },
     "output_type": "display_data"
    }
   ],
   "source": [
    "sns.heatmap(train_data.corr(),annot=True, cmap=\"coolwarm\",center=0)"
   ]
  },
  {
   "cell_type": "markdown",
   "metadata": {},
   "source": [
    "It looks like there's significant negative correlation between Pclass and Has Cabin, which in this context means that the people that have cabins probably are higher class. \n",
    "\n",
    "It also seems like there's a pretty strong positive correlation between Fare and Has_Cabin, which means that the higher the fare, the more likely they are to have a cabin.\n",
    "\n",
    "Age and Child are negatively correclated, which makes sense since I created Child as anyone under age 14. \n",
    "\n",
    "Fare and Pclass are negatively correlated, which means that the less you pay the more likely you are to be a lower social class. \n",
    "\n",
    "Interestingly, Survived has a decently high correlation with Pclass, Fare, and Has_Cabin. These variables are also highly correlated with each other, so I'm wondering if there will be a lot of collinearity introduced by having all 3 of these in the model. \n",
    "\n",
    "Also interestingly, it seems that Age has a moderately negative correlation between Pclass and SibSp. That means the younger you are, the more likely you are to be of a higher social class. Also, the older you are, the less likely you are to have siblings or spouses on the ship. (which makes sense, since younger children can have multiple siblings but older people are most likely to only have 1 spouse or no spouse.)"
   ]
  },
  {
   "cell_type": "code",
   "execution_count": 32,
   "metadata": {},
   "outputs": [
    {
     "data": {
      "text/plain": [
       "<AxesSubplot:xlabel='Sex', ylabel='Survived'>"
      ]
     },
     "execution_count": 32,
     "metadata": {},
     "output_type": "execute_result"
    },
    {
     "data": {
      "image/png": "[encoded data removed]",
      "text/plain": [
       "<Figure size 432x288 with 1 Axes>"
      ]
     },
     "metadata": {
      "needs_background": "light"
     },
     "output_type": "display_data"
    }
   ],
   "source": [
    "sns.barplot(x='Sex',y='Survived',data=train_data)"
   ]
  },
  {
   "cell_type": "code",
   "execution_count": null,
   "metadata": {},
   "outputs": [],
   "source": []
  },
  {
   "cell_type": "markdown",
   "metadata": {},
   "source": [
    "### Exploring the relationships in greater detail"
   ]
  },
  {
   "cell_type": "code",
   "execution_count": 33,
   "metadata": {},
   "outputs": [
    {
     "data": {
      "text/plain": [
       "<AxesSubplot:xlabel='Survived', ylabel='Age'>"
      ]
     },
     "execution_count": 33,
     "metadata": {},
     "output_type": "execute_result"
    },
    {
     "data": {
      "image/png": "[encoded data removed]",
      "text/plain": [
       "<Figure size 432x288 with 1 Axes>"
      ]
     },
     "metadata": {
      "needs_background": "light"
     },
     "output_type": "display_data"
    }
   ],
   "source": [
    "sns.boxplot(x=train_data['Survived'],y=train_data['Age'])"
   ]
  },
  {
   "cell_type": "markdown",
   "metadata": {},
   "source": [
    "Surprisingly, the median age of the people that survived and that didn't are very similar. "
   ]
  },
  {
   "cell_type": "code",
   "execution_count": 34,
   "metadata": {},
   "outputs": [
    {
     "data": {
      "text/plain": [
       "<AxesSubplot:xlabel='Pclass', ylabel='Age'>"
      ]
     },
     "execution_count": 34,
     "metadata": {},
     "output_type": "execute_result"
    },
    {
     "data": {
      "image/png": "[encoded data removed]",
      "text/plain": [
       "<Figure size 432x288 with 1 Axes>"
      ]
     },
     "metadata": {
      "needs_background": "light"
     },
     "output_type": "display_data"
    }
   ],
   "source": [
    "sns.boxplot(x=train_data['Pclass'],y=train_data['Age'])"
   ]
  },
  {
   "cell_type": "markdown",
   "metadata": {},
   "source": [
    "It seems that the age gets lower as the social class gets lower. Meaning younger people tended to be middle or lower class. "
   ]
  },
  {
   "cell_type": "code",
   "execution_count": 35,
   "metadata": {},
   "outputs": [
    {
     "data": {
      "text/plain": [
       "<AxesSubplot:xlabel='SibSp', ylabel='Age'>"
      ]
     },
     "execution_count": 35,
     "metadata": {},
     "output_type": "execute_result"
    },
    {
     "data": {
      "image/png": "[encoded data removed]",
      "text/plain": [
       "<Figure size 432x288 with 1 Axes>"
      ]
     },
     "metadata": {
      "needs_background": "light"
     },
     "output_type": "display_data"
    }
   ],
   "source": [
    "sns.boxplot(x=train_data['SibSp'],y=train_data['Age'])"
   ]
  },
  {
   "cell_type": "markdown",
   "metadata": {},
   "source": [
    "The titles I think correspond to the number of each respective gender aboard the titanic."
   ]
  },
  {
   "cell_type": "markdown",
   "metadata": {},
   "source": [
    "# Testing accuracy on a simple logistic"
   ]
  },
  {
   "cell_type": "code",
   "execution_count": 36,
   "metadata": {},
   "outputs": [],
   "source": [
    "train_data_dropna = train_data_dummies.dropna()"
   ]
  },
  {
   "cell_type": "code",
   "execution_count": 37,
   "metadata": {},
   "outputs": [
    {
     "name": "stdout",
     "output_type": "stream",
     "text": [
      "Optimization terminated successfully.\n",
      "         Current function value: 0.429363\n",
      "         Iterations 7\n"
     ]
    }
   ],
   "source": [
    "y = train_data_dropna[['Survived']]\n",
    "\n",
    "X = train_data_dropna[['Age','SibSp','Parch','Fare','Child','Has_Cabin','Pclass_1','Pclass_2','Sex_female','Embarked_C','Embarked_Q']]\n",
    "\n",
    "X = sm.add_constant(X)\n",
    "\n",
    "logistic = sm.Logit(endog =  y.astype('float'),exog = X.astype('float'),missing='drop')\n",
    "\n",
    "res = logistic.fit()"
   ]
  },
  {
   "cell_type": "code",
   "execution_count": 38,
   "metadata": {},
   "outputs": [
    {
     "name": "stdout",
     "output_type": "stream",
     "text": [
      "Optimization terminated successfully.\n",
      "         Current function value: 0.429244\n",
      "         Iterations 6\n"
     ]
    }
   ],
   "source": [
    "## Doing logistic again with imputed variables\n",
    "y = train_data_dummies[['Survived']]\n",
    "\n",
    "X = train_data_dummies[['Age_Impute','SibSp','Parch','Fare','Child','Has_Cabin','Has_Age','Pclass_1','Pclass_2','Sex_female','Embarked_C','Embarked_Q']]\n",
    "\n",
    "X = sm.add_constant(X)\n",
    "\n",
    "logistic1 = sm.Logit(endog =  y.astype('float'),exog = X.astype('float'),missing='drop')\n",
    "\n",
    "res1 = logistic1.fit()"
   ]
  },
  {
   "cell_type": "code",
   "execution_count": 39,
   "metadata": {},
   "outputs": [
    {
     "data": {
      "text/html": [
       "<table class=\"simpletable\">\n",
       "<caption>Logit Regression Results</caption>\n",
       "<tr>\n",
       "  <th>Dep. Variable:</th>       <td>Survived</td>     <th>  No. Observations:  </th>  <td>   185</td>  \n",
       "</tr>\n",
       "<tr>\n",
       "  <th>Model:</th>                 <td>Logit</td>      <th>  Df Residuals:      </th>  <td>   174</td>  \n",
       "</tr>\n",
       "<tr>\n",
       "  <th>Method:</th>                 <td>MLE</td>       <th>  Df Model:          </th>  <td>    10</td>  \n",
       "</tr>\n",
       "<tr>\n",
       "  <th>Date:</th>            <td>Sat, 24 Jul 2021</td> <th>  Pseudo R-squ.:     </th>  <td>0.3186</td>  \n",
       "</tr>\n",
       "<tr>\n",
       "  <th>Time:</th>                <td>20:30:04</td>     <th>  Log-Likelihood:    </th> <td> -79.432</td> \n",
       "</tr>\n",
       "<tr>\n",
       "  <th>converged:</th>             <td>True</td>       <th>  LL-Null:           </th> <td> -116.57</td> \n",
       "</tr>\n",
       "<tr>\n",
       "  <th>Covariance Type:</th>     <td>nonrobust</td>    <th>  LLR p-value:       </th> <td>6.605e-12</td>\n",
       "</tr>\n",
       "</table>\n",
       "<table class=\"simpletable\">\n",
       "<tr>\n",
       "       <td></td>         <th>coef</th>     <th>std err</th>      <th>z</th>      <th>P>|z|</th>  <th>[0.025</th>    <th>0.975]</th>  \n",
       "</tr>\n",
       "<tr>\n",
       "  <th>Age</th>        <td>   -0.0310</td> <td>    0.016</td> <td>   -1.903</td> <td> 0.057</td> <td>   -0.063</td> <td>    0.001</td>\n",
       "</tr>\n",
       "<tr>\n",
       "  <th>SibSp</th>      <td>    0.1284</td> <td>    0.358</td> <td>    0.359</td> <td> 0.720</td> <td>   -0.573</td> <td>    0.830</td>\n",
       "</tr>\n",
       "<tr>\n",
       "  <th>Parch</th>      <td>   -0.5542</td> <td>    0.343</td> <td>   -1.616</td> <td> 0.106</td> <td>   -1.226</td> <td>    0.118</td>\n",
       "</tr>\n",
       "<tr>\n",
       "  <th>Fare</th>       <td>    0.0021</td> <td>    0.003</td> <td>    0.670</td> <td> 0.503</td> <td>   -0.004</td> <td>    0.008</td>\n",
       "</tr>\n",
       "<tr>\n",
       "  <th>Child</th>      <td>    1.2533</td> <td>    1.117</td> <td>    1.123</td> <td> 0.262</td> <td>   -0.935</td> <td>    3.442</td>\n",
       "</tr>\n",
       "<tr>\n",
       "  <th>Has_Cabin</th>  <td>   -0.7971</td> <td>    1.025</td> <td>   -0.778</td> <td> 0.437</td> <td>   -2.806</td> <td>    1.211</td>\n",
       "</tr>\n",
       "<tr>\n",
       "  <th>Pclass_1</th>   <td>    1.5922</td> <td>    0.943</td> <td>    1.689</td> <td> 0.091</td> <td>   -0.255</td> <td>    3.440</td>\n",
       "</tr>\n",
       "<tr>\n",
       "  <th>Pclass_2</th>   <td>    1.4364</td> <td>    1.160</td> <td>    1.239</td> <td> 0.215</td> <td>   -0.836</td> <td>    3.709</td>\n",
       "</tr>\n",
       "<tr>\n",
       "  <th>Sex_female</th> <td>    3.0421</td> <td>    0.519</td> <td>    5.860</td> <td> 0.000</td> <td>    2.025</td> <td>    4.060</td>\n",
       "</tr>\n",
       "<tr>\n",
       "  <th>Embarked_C</th> <td>    0.4119</td> <td>    0.450</td> <td>    0.915</td> <td> 0.360</td> <td>   -0.471</td> <td>    1.294</td>\n",
       "</tr>\n",
       "<tr>\n",
       "  <th>Embarked_Q</th> <td>   -1.5026</td> <td>    1.977</td> <td>   -0.760</td> <td> 0.447</td> <td>   -5.378</td> <td>    2.373</td>\n",
       "</tr>\n",
       "</table>"
      ],
      "text/plain": [
       "<class 'statsmodels.iolib.summary.Summary'>\n",
       "\"\"\"\n",
       "                           Logit Regression Results                           \n",
       "==============================================================================\n",
       "Dep. Variable:               Survived   No. Observations:                  185\n",
       "Model:                          Logit   Df Residuals:                      174\n",
       "Method:                           MLE   Df Model:                           10\n",
       "Date:                Sat, 24 Jul 2021   Pseudo R-squ.:                  0.3186\n",
       "Time:                        20:30:04   Log-Likelihood:                -79.432\n",
       "converged:                       True   LL-Null:                       -116.57\n",
       "Covariance Type:            nonrobust   LLR p-value:                 6.605e-12\n",
       "==============================================================================\n",
       "                 coef    std err          z      P>|z|      [0.025      0.975]\n",
       "------------------------------------------------------------------------------\n",
       "Age           -0.0310      0.016     -1.903      0.057      -0.063       0.001\n",
       "SibSp          0.1284      0.358      0.359      0.720      -0.573       0.830\n",
       "Parch         -0.5542      0.343     -1.616      0.106      -1.226       0.118\n",
       "Fare           0.0021      0.003      0.670      0.503      -0.004       0.008\n",
       "Child          1.2533      1.117      1.123      0.262      -0.935       3.442\n",
       "Has_Cabin     -0.7971      1.025     -0.778      0.437      -2.806       1.211\n",
       "Pclass_1       1.5922      0.943      1.689      0.091      -0.255       3.440\n",
       "Pclass_2       1.4364      1.160      1.239      0.215      -0.836       3.709\n",
       "Sex_female     3.0421      0.519      5.860      0.000       2.025       4.060\n",
       "Embarked_C     0.4119      0.450      0.915      0.360      -0.471       1.294\n",
       "Embarked_Q    -1.5026      1.977     -0.760      0.447      -5.378       2.373\n",
       "==============================================================================\n",
       "\"\"\""
      ]
     },
     "execution_count": 39,
     "metadata": {},
     "output_type": "execute_result"
    }
   ],
   "source": [
    "res.summary()"
   ]
  },
  {
   "cell_type": "markdown",
   "metadata": {},
   "source": [
    "With this initial simple analysis, we see that the most predictive variables are Gender and Age. Since we dropped a lot of columns, this might not be a representative dataset, and none of the others are really that significant."
   ]
  },
  {
   "cell_type": "code",
   "execution_count": 40,
   "metadata": {},
   "outputs": [
    {
     "data": {
      "text/html": [
       "<table class=\"simpletable\">\n",
       "<caption>Logit Regression Results</caption>\n",
       "<tr>\n",
       "  <th>Dep. Variable:</th>       <td>Survived</td>     <th>  No. Observations:  </th>  <td>   891</td>  \n",
       "</tr>\n",
       "<tr>\n",
       "  <th>Model:</th>                 <td>Logit</td>      <th>  Df Residuals:      </th>  <td>   878</td>  \n",
       "</tr>\n",
       "<tr>\n",
       "  <th>Method:</th>                 <td>MLE</td>       <th>  Df Model:          </th>  <td>    12</td>  \n",
       "</tr>\n",
       "<tr>\n",
       "  <th>Date:</th>            <td>Sat, 24 Jul 2021</td> <th>  Pseudo R-squ.:     </th>  <td>0.3554</td>  \n",
       "</tr>\n",
       "<tr>\n",
       "  <th>Time:</th>                <td>20:30:04</td>     <th>  Log-Likelihood:    </th> <td> -382.46</td> \n",
       "</tr>\n",
       "<tr>\n",
       "  <th>converged:</th>             <td>True</td>       <th>  LL-Null:           </th> <td> -593.33</td> \n",
       "</tr>\n",
       "<tr>\n",
       "  <th>Covariance Type:</th>     <td>nonrobust</td>    <th>  LLR p-value:       </th> <td>9.356e-83</td>\n",
       "</tr>\n",
       "</table>\n",
       "<table class=\"simpletable\">\n",
       "<tr>\n",
       "       <td></td>         <th>coef</th>     <th>std err</th>      <th>z</th>      <th>P>|z|</th>  <th>[0.025</th>    <th>0.975]</th>  \n",
       "</tr>\n",
       "<tr>\n",
       "  <th>const</th>      <td>   -1.8341</td> <td>    0.368</td> <td>   -4.985</td> <td> 0.000</td> <td>   -2.555</td> <td>   -1.113</td>\n",
       "</tr>\n",
       "<tr>\n",
       "  <th>Age_Impute</th> <td>   -0.0226</td> <td>    0.009</td> <td>   -2.424</td> <td> 0.015</td> <td>   -0.041</td> <td>   -0.004</td>\n",
       "</tr>\n",
       "<tr>\n",
       "  <th>SibSp</th>      <td>   -0.4313</td> <td>    0.125</td> <td>   -3.455</td> <td> 0.001</td> <td>   -0.676</td> <td>   -0.187</td>\n",
       "</tr>\n",
       "<tr>\n",
       "  <th>Parch</th>      <td>   -0.2286</td> <td>    0.129</td> <td>   -1.769</td> <td> 0.077</td> <td>   -0.482</td> <td>    0.025</td>\n",
       "</tr>\n",
       "<tr>\n",
       "  <th>Fare</th>       <td>    0.0029</td> <td>    0.003</td> <td>    1.105</td> <td> 0.269</td> <td>   -0.002</td> <td>    0.008</td>\n",
       "</tr>\n",
       "<tr>\n",
       "  <th>Child</th>      <td>    1.4142</td> <td>    0.459</td> <td>    3.080</td> <td> 0.002</td> <td>    0.514</td> <td>    2.314</td>\n",
       "</tr>\n",
       "<tr>\n",
       "  <th>Has_Cabin</th>  <td>    0.8653</td> <td>    0.339</td> <td>    2.554</td> <td> 0.011</td> <td>    0.201</td> <td>    1.529</td>\n",
       "</tr>\n",
       "<tr>\n",
       "  <th>Has_Age</th>    <td>    0.1066</td> <td>    0.259</td> <td>    0.411</td> <td> 0.681</td> <td>   -0.401</td> <td>    0.615</td>\n",
       "</tr>\n",
       "<tr>\n",
       "  <th>Pclass_1</th>   <td>    1.3610</td> <td>    0.398</td> <td>    3.416</td> <td> 0.001</td> <td>    0.580</td> <td>    2.142</td>\n",
       "</tr>\n",
       "<tr>\n",
       "  <th>Pclass_2</th>   <td>    1.1244</td> <td>    0.243</td> <td>    4.621</td> <td> 0.000</td> <td>    0.648</td> <td>    1.601</td>\n",
       "</tr>\n",
       "<tr>\n",
       "  <th>Sex_female</th> <td>    2.7677</td> <td>    0.206</td> <td>   13.427</td> <td> 0.000</td> <td>    2.364</td> <td>    3.172</td>\n",
       "</tr>\n",
       "<tr>\n",
       "  <th>Embarked_C</th> <td>    0.4618</td> <td>    0.246</td> <td>    1.879</td> <td> 0.060</td> <td>   -0.020</td> <td>    0.944</td>\n",
       "</tr>\n",
       "<tr>\n",
       "  <th>Embarked_Q</th> <td>    0.4916</td> <td>    0.353</td> <td>    1.394</td> <td> 0.163</td> <td>   -0.199</td> <td>    1.183</td>\n",
       "</tr>\n",
       "</table>"
      ],
      "text/plain": [
       "<class 'statsmodels.iolib.summary.Summary'>\n",
       "\"\"\"\n",
       "                           Logit Regression Results                           \n",
       "==============================================================================\n",
       "Dep. Variable:               Survived   No. Observations:                  891\n",
       "Model:                          Logit   Df Residuals:                      878\n",
       "Method:                           MLE   Df Model:                           12\n",
       "Date:                Sat, 24 Jul 2021   Pseudo R-squ.:                  0.3554\n",
       "Time:                        20:30:04   Log-Likelihood:                -382.46\n",
       "converged:                       True   LL-Null:                       -593.33\n",
       "Covariance Type:            nonrobust   LLR p-value:                 9.356e-83\n",
       "==============================================================================\n",
       "                 coef    std err          z      P>|z|      [0.025      0.975]\n",
       "------------------------------------------------------------------------------\n",
       "const         -1.8341      0.368     -4.985      0.000      -2.555      -1.113\n",
       "Age_Impute    -0.0226      0.009     -2.424      0.015      -0.041      -0.004\n",
       "SibSp         -0.4313      0.125     -3.455      0.001      -0.676      -0.187\n",
       "Parch         -0.2286      0.129     -1.769      0.077      -0.482       0.025\n",
       "Fare           0.0029      0.003      1.105      0.269      -0.002       0.008\n",
       "Child          1.4142      0.459      3.080      0.002       0.514       2.314\n",
       "Has_Cabin      0.8653      0.339      2.554      0.011       0.201       1.529\n",
       "Has_Age        0.1066      0.259      0.411      0.681      -0.401       0.615\n",
       "Pclass_1       1.3610      0.398      3.416      0.001       0.580       2.142\n",
       "Pclass_2       1.1244      0.243      4.621      0.000       0.648       1.601\n",
       "Sex_female     2.7677      0.206     13.427      0.000       2.364       3.172\n",
       "Embarked_C     0.4618      0.246      1.879      0.060      -0.020       0.944\n",
       "Embarked_Q     0.4916      0.353      1.394      0.163      -0.199       1.183\n",
       "==============================================================================\n",
       "\"\"\""
      ]
     },
     "execution_count": 40,
     "metadata": {},
     "output_type": "execute_result"
    }
   ],
   "source": [
    "res1.summary()"
   ]
  },
  {
   "cell_type": "markdown",
   "metadata": {},
   "source": [
    "With the whole dataset and using imputation to create Age, we see that Age and Gender are still very predictive. But now, we see that Pclass is also very predictive. This leads me to believe that the people without age might be biased, in that people with worse Pclass is less likely to have an age. In addition, it seems that being a child or having a cabin really raises your chances of survival. "
   ]
  },
  {
   "cell_type": "markdown",
   "metadata": {},
   "source": [
    "# Using Sci-kit learn to build and test performance of different models"
   ]
  },
  {
   "cell_type": "code",
   "execution_count": 41,
   "metadata": {},
   "outputs": [],
   "source": [
    "from sklearn.model_selection import train_test_split"
   ]
  },
  {
   "cell_type": "code",
   "execution_count": 42,
   "metadata": {},
   "outputs": [],
   "source": [
    "from sklearn.preprocessing import StandardScaler\n",
    "from sklearn.impute import SimpleImputer\n",
    "from sklearn.pipeline import Pipeline"
   ]
  },
  {
   "cell_type": "code",
   "execution_count": 43,
   "metadata": {},
   "outputs": [],
   "source": [
    "from sklearn.model_selection import cross_validate"
   ]
  },
  {
   "cell_type": "code",
   "execution_count": 44,
   "metadata": {},
   "outputs": [],
   "source": [
    "from sklearn.metrics import plot_roc_curve"
   ]
  },
  {
   "cell_type": "code",
   "execution_count": 45,
   "metadata": {},
   "outputs": [],
   "source": [
    "from sklearn.metrics import plot_precision_recall_curve"
   ]
  },
  {
   "cell_type": "code",
   "execution_count": 46,
   "metadata": {},
   "outputs": [],
   "source": [
    "from sklearn.metrics import plot_confusion_matrix"
   ]
  },
  {
   "cell_type": "code",
   "execution_count": 47,
   "metadata": {},
   "outputs": [],
   "source": [
    "from sklearn.model_selection import GridSearchCV"
   ]
  },
  {
   "cell_type": "markdown",
   "metadata": {},
   "source": [
    "## Train holdout split"
   ]
  },
  {
   "cell_type": "code",
   "execution_count": 48,
   "metadata": {},
   "outputs": [],
   "source": [
    "y = train_data_dummies['Survived']"
   ]
  },
  {
   "cell_type": "code",
   "execution_count": 49,
   "metadata": {},
   "outputs": [],
   "source": [
    "X = train_data_dummies[['Age','SibSp','Parch','Fare','Child','Has_Cabin','Has_Age','Pclass_1','Pclass_2','Sex_female','Embarked_C','Embarked_Q']]"
   ]
  },
  {
   "cell_type": "code",
   "execution_count": 50,
   "metadata": {},
   "outputs": [],
   "source": [
    "X_train, X_test, y_train, y_test = train_test_split(X,y,test_size=.2,random_state=42)"
   ]
  },
  {
   "cell_type": "markdown",
   "metadata": {},
   "source": [
    "## Logistic Regression"
   ]
  },
  {
   "cell_type": "code",
   "execution_count": 51,
   "metadata": {},
   "outputs": [],
   "source": [
    "from sklearn.linear_model import LogisticRegression\n"
   ]
  },
  {
   "cell_type": "code",
   "execution_count": 52,
   "metadata": {},
   "outputs": [],
   "source": [
    "logistic = LogisticRegression()"
   ]
  },
  {
   "cell_type": "code",
   "execution_count": 53,
   "metadata": {},
   "outputs": [],
   "source": [
    "log_pipe = Pipeline([('Imputer',SimpleImputer(missing_values=np.nan,strategy='mean'))\n",
    "                    ,('Scaler',StandardScaler())\n",
    "                     ,('Logistic',logistic)\n",
    "                    ])"
   ]
  },
  {
   "cell_type": "code",
   "execution_count": 54,
   "metadata": {},
   "outputs": [
    {
     "data": {
      "text/plain": [
       "{'fit_time': array([0.03151488, 0.01651502, 0.01899934, 0.01899934, 0.03300023]),\n",
       " 'score_time': array([0.0109992 , 0.01251435, 0.01200104, 0.01599979, 0.02100039]),\n",
       " 'test_roc_auc': array([0.86724927, 0.84217645, 0.84545262, 0.81375874, 0.88089226]),\n",
       " 'test_precision': array([0.76923077, 0.78723404, 0.79166667, 0.68181818, 0.82      ]),\n",
       " 'test_recall': array([0.74074074, 0.68518519, 0.71698113, 0.56603774, 0.75925926])}"
      ]
     },
     "execution_count": 54,
     "metadata": {},
     "output_type": "execute_result"
    }
   ],
   "source": [
    "cross_validate(log_pipe,X_train,y_train,scoring=['roc_auc','precision','recall'])"
   ]
  },
  {
   "cell_type": "markdown",
   "metadata": {},
   "source": [
    "Seems to performn decently well, with one fold that performs drastically worse than the others"
   ]
  },
  {
   "cell_type": "code",
   "execution_count": 55,
   "metadata": {},
   "outputs": [
    {
     "data": {
      "text/plain": [
       "Pipeline(steps=[('Imputer', SimpleImputer()), ('Scaler', StandardScaler()),\n",
       "                ('Logistic', LogisticRegression())])"
      ]
     },
     "execution_count": 55,
     "metadata": {},
     "output_type": "execute_result"
    }
   ],
   "source": [
    "log_pipe.fit(X_train,y_train)"
   ]
  },
  {
   "cell_type": "code",
   "execution_count": 56,
   "metadata": {},
   "outputs": [
    {
     "data": {
      "text/plain": [
       "<sklearn.metrics._plot.roc_curve.RocCurveDisplay at 0x169357ef670>"
      ]
     },
     "execution_count": 56,
     "metadata": {},
     "output_type": "execute_result"
    },
    {
     "data": {
      "image/png": "[encoded data removed]",
      "text/plain": [
       "<Figure size 432x288 with 1 Axes>"
      ]
     },
     "metadata": {
      "needs_background": "light"
     },
     "output_type": "display_data"
    }
   ],
   "source": [
    "plot_roc_curve(log_pipe, X_test, y_test)"
   ]
  },
  {
   "cell_type": "code",
   "execution_count": 57,
   "metadata": {},
   "outputs": [
    {
     "data": {
      "text/plain": [
       "<sklearn.metrics._plot.precision_recall_curve.PrecisionRecallDisplay at 0x169357efd30>"
      ]
     },
     "execution_count": 57,
     "metadata": {},
     "output_type": "execute_result"
    },
    {
     "data": {
      "image/png": "[encoded data removed]",
      "text/plain": [
       "<Figure size 432x288 with 1 Axes>"
      ]
     },
     "metadata": {
      "needs_background": "light"
     },
     "output_type": "display_data"
    }
   ],
   "source": [
    "plot_precision_recall_curve(log_pipe, X_test, y_test)"
   ]
  },
  {
   "cell_type": "code",
   "execution_count": 58,
   "metadata": {},
   "outputs": [
    {
     "data": {
      "text/plain": [
       "<sklearn.metrics._plot.confusion_matrix.ConfusionMatrixDisplay at 0x16935853c40>"
      ]
     },
     "execution_count": 58,
     "metadata": {},
     "output_type": "execute_result"
    },
    {
     "data": {
      "image/png": "[encoded data removed]",
      "text/plain": [
       "<Figure size 432x288 with 2 Axes>"
      ]
     },
     "metadata": {
      "needs_background": "light"
     },
     "output_type": "display_data"
    }
   ],
   "source": [
    "plot_confusion_matrix(log_pipe, X_test, y_test)"
   ]
  },
  {
   "cell_type": "markdown",
   "metadata": {},
   "source": [
    "The metrics all look pretty good- high AUC, good precision vs. recall tradeoff, and low misclassifications"
   ]
  },
  {
   "cell_type": "markdown",
   "metadata": {},
   "source": [
    "## Decision Tree"
   ]
  },
  {
   "cell_type": "code",
   "execution_count": 59,
   "metadata": {},
   "outputs": [],
   "source": [
    "from sklearn.tree import DecisionTreeClassifier"
   ]
  },
  {
   "cell_type": "code",
   "execution_count": 60,
   "metadata": {},
   "outputs": [],
   "source": [
    "dec_tree = DecisionTreeClassifier()"
   ]
  },
  {
   "cell_type": "code",
   "execution_count": 61,
   "metadata": {},
   "outputs": [],
   "source": [
    "dec_pipe = Pipeline([('Imputer',SimpleImputer(missing_values=np.nan,strategy='mean'))\n",
    "                    ,('Scaler',StandardScaler())\n",
    "                     ,('DecTree',dec_tree)\n",
    "                    ])"
   ]
  },
  {
   "cell_type": "code",
   "execution_count": 62,
   "metadata": {},
   "outputs": [],
   "source": [
    "dec_params = [{'DecTree__max_depth':[3,5,15]\n",
    "              ,'DecTree__max_leaf_nodes':[15,25,35]\n",
    "              ,'DecTree__min_samples_leaf':[11,21,31]}\n",
    "             ]"
   ]
  },
  {
   "cell_type": "code",
   "execution_count": 63,
   "metadata": {},
   "outputs": [],
   "source": [
    "dec_grid_search = GridSearchCV(dec_pipe,dec_params,cv=5, scoring='roc_auc')"
   ]
  },
  {
   "cell_type": "code",
   "execution_count": 64,
   "metadata": {},
   "outputs": [],
   "source": [
    "GridSearchCV?"
   ]
  },
  {
   "cell_type": "code",
   "execution_count": 65,
   "metadata": {},
   "outputs": [
    {
     "data": {
      "text/plain": [
       "GridSearchCV(cv=5,\n",
       "             estimator=Pipeline(steps=[('Imputer', SimpleImputer()),\n",
       "                                       ('Scaler', StandardScaler()),\n",
       "                                       ('DecTree', DecisionTreeClassifier())]),\n",
       "             param_grid=[{'DecTree__max_depth': [3, 5, 15],\n",
       "                          'DecTree__max_leaf_nodes': [15, 25, 35],\n",
       "                          'DecTree__min_samples_leaf': [11, 21, 31]}],\n",
       "             scoring='roc_auc')"
      ]
     },
     "execution_count": 65,
     "metadata": {},
     "output_type": "execute_result"
    }
   ],
   "source": [
    "dec_grid_search.fit(X_train,y_train)"
   ]
  },
  {
   "cell_type": "code",
   "execution_count": 66,
   "metadata": {},
   "outputs": [
    {
     "data": {
      "text/plain": [
       "{'DecTree__max_depth': 5,\n",
       " 'DecTree__max_leaf_nodes': 35,\n",
       " 'DecTree__min_samples_leaf': 21}"
      ]
     },
     "execution_count": 66,
     "metadata": {},
     "output_type": "execute_result"
    }
   ],
   "source": [
    "dec_grid_search.best_params_"
   ]
  },
  {
   "cell_type": "code",
   "execution_count": 67,
   "metadata": {},
   "outputs": [],
   "source": [
    "dec_tree = DecisionTreeClassifier(max_depth=5,max_leaf_nodes=15,min_samples_leaf=21)"
   ]
  },
  {
   "cell_type": "code",
   "execution_count": 68,
   "metadata": {},
   "outputs": [],
   "source": [
    "dec_pipe = Pipeline([('Imputer',SimpleImputer(missing_values=np.nan,strategy='mean'))\n",
    "                    ,('Scaler',StandardScaler())\n",
    "                     ,('DecTree',dec_tree)\n",
    "                    ])"
   ]
  },
  {
   "cell_type": "code",
   "execution_count": 69,
   "metadata": {},
   "outputs": [
    {
     "data": {
      "text/plain": [
       "{'fit_time': array([0.01099825, 0.01199937, 0.01199913, 0.01100063, 0.00899839]),\n",
       " 'score_time': array([0.01000023, 0.0110023 , 0.01300144, 0.00999761, 0.01300097]),\n",
       " 'test_roc_auc': array([0.87307532, 0.84644195, 0.81831673, 0.84354463, 0.8582702 ]),\n",
       " 'test_precision': array([0.87878788, 0.82978723, 0.6440678 , 0.76923077, 0.79591837]),\n",
       " 'test_recall': array([0.53703704, 0.72222222, 0.71698113, 0.56603774, 0.72222222])}"
      ]
     },
     "execution_count": 69,
     "metadata": {},
     "output_type": "execute_result"
    }
   ],
   "source": [
    "cross_validate(dec_pipe,X_train,y_train,scoring=['roc_auc','precision','recall'])"
   ]
  },
  {
   "cell_type": "code",
   "execution_count": 70,
   "metadata": {},
   "outputs": [
    {
     "data": {
      "text/plain": [
       "Pipeline(steps=[('Imputer', SimpleImputer()), ('Scaler', StandardScaler()),\n",
       "                ('DecTree',\n",
       "                 DecisionTreeClassifier(max_depth=5, max_leaf_nodes=15,\n",
       "                                        min_samples_leaf=21))])"
      ]
     },
     "execution_count": 70,
     "metadata": {},
     "output_type": "execute_result"
    }
   ],
   "source": [
    "dec_pipe.fit(X_train,y_train)"
   ]
  },
  {
   "cell_type": "code",
   "execution_count": 71,
   "metadata": {},
   "outputs": [
    {
     "data": {
      "text/plain": [
       "<sklearn.metrics._plot.roc_curve.RocCurveDisplay at 0x16934bc1df0>"
      ]
     },
     "execution_count": 71,
     "metadata": {},
     "output_type": "execute_result"
    },
    {
     "data": {
      "image/png": "[encoded data removed]",
      "text/plain": [
       "<Figure size 432x288 with 1 Axes>"
      ]
     },
     "metadata": {
      "needs_background": "light"
     },
     "output_type": "display_data"
    }
   ],
   "source": [
    "plot_roc_curve(dec_pipe,X_train,y_train)"
   ]
  },
  {
   "cell_type": "markdown",
   "metadata": {},
   "source": [
    "## Random Forest"
   ]
  },
  {
   "cell_type": "code",
   "execution_count": 72,
   "metadata": {},
   "outputs": [],
   "source": [
    "from sklearn.ensemble import RandomForestClassifier"
   ]
  },
  {
   "cell_type": "code",
   "execution_count": 73,
   "metadata": {},
   "outputs": [],
   "source": [
    "rand_forest = RandomForestClassifier()"
   ]
  },
  {
   "cell_type": "code",
   "execution_count": 74,
   "metadata": {},
   "outputs": [],
   "source": [
    "forest_pipe = Pipeline([('Imputer',SimpleImputer(missing_values=np.nan,strategy='mean'))\n",
    "                    ,('Scaler',StandardScaler())\n",
    "                     ,('RandForest',rand_forest)\n",
    "                    ])"
   ]
  },
  {
   "cell_type": "code",
   "execution_count": 75,
   "metadata": {},
   "outputs": [],
   "source": [
    "forest_params = [{'RandForest__max_depth':[3,5,15]\n",
    "              ,'RandForest__max_leaf_nodes':[15,25,35]\n",
    "              ,'RandForest__min_samples_leaf':[1,11,21]}\n",
    "             ]"
   ]
  },
  {
   "cell_type": "code",
   "execution_count": 76,
   "metadata": {},
   "outputs": [],
   "source": [
    "forest_grid = GridSearchCV(forest_pipe,forest_params,cv=5,scoring='roc_auc')"
   ]
  },
  {
   "cell_type": "code",
   "execution_count": 77,
   "metadata": {},
   "outputs": [
    {
     "data": {
      "text/plain": [
       "GridSearchCV(cv=5,\n",
       "             estimator=Pipeline(steps=[('Imputer', SimpleImputer()),\n",
       "                                       ('Scaler', StandardScaler()),\n",
       "                                       ('RandForest',\n",
       "                                        RandomForestClassifier())]),\n",
       "             param_grid=[{'RandForest__max_depth': [3, 5, 15],\n",
       "                          'RandForest__max_leaf_nodes': [15, 25, 35],\n",
       "                          'RandForest__min_samples_leaf': [1, 11, 21]}],\n",
       "             scoring='roc_auc')"
      ]
     },
     "execution_count": 77,
     "metadata": {},
     "output_type": "execute_result"
    }
   ],
   "source": [
    "forest_grid.fit(X_train,y_train)"
   ]
  },
  {
   "cell_type": "code",
   "execution_count": 78,
   "metadata": {},
   "outputs": [
    {
     "data": {
      "text/plain": [
       "{'RandForest__max_depth': 15,\n",
       " 'RandForest__max_leaf_nodes': 35,\n",
       " 'RandForest__min_samples_leaf': 1}"
      ]
     },
     "execution_count": 78,
     "metadata": {},
     "output_type": "execute_result"
    }
   ],
   "source": [
    "forest_grid.best_params_"
   ]
  },
  {
   "cell_type": "code",
   "execution_count": 79,
   "metadata": {},
   "outputs": [],
   "source": [
    "rand_forest = RandomForestClassifier(max_depth=15,max_leaf_nodes=25,min_samples_leaf=1)\n",
    "forest_pipe = Pipeline([('Imputer',SimpleImputer(missing_values=np.nan,strategy='mean'))\n",
    "                    ,('Scaler',StandardScaler())\n",
    "                     ,('RandForest',rand_forest)\n",
    "                    ])"
   ]
  },
  {
   "cell_type": "code",
   "execution_count": 80,
   "metadata": {},
   "outputs": [
    {
     "data": {
      "text/plain": [
       "{'fit_time': array([0.23000121, 0.2149992 , 0.19099879, 0.17899919, 0.20200157]),\n",
       " 'score_time': array([0.03800035, 0.0318737 , 0.0340004 , 0.02900338, 0.03899765]),\n",
       " 'test_roc_auc': array([0.87723679, 0.85216396, 0.83633665, 0.85637057, 0.88888889]),\n",
       " 'test_precision': array([0.82222222, 0.80851064, 0.8       , 0.79069767, 0.80487805]),\n",
       " 'test_recall': array([0.68518519, 0.7037037 , 0.67924528, 0.64150943, 0.61111111])}"
      ]
     },
     "execution_count": 80,
     "metadata": {},
     "output_type": "execute_result"
    }
   ],
   "source": [
    "cross_validate(forest_pipe,X_train,y_train,scoring=['roc_auc','precision','recall'])"
   ]
  },
  {
   "cell_type": "code",
   "execution_count": 81,
   "metadata": {},
   "outputs": [
    {
     "data": {
      "text/plain": [
       "Pipeline(steps=[('Imputer', SimpleImputer()), ('Scaler', StandardScaler()),\n",
       "                ('RandForest',\n",
       "                 RandomForestClassifier(max_depth=15, max_leaf_nodes=25))])"
      ]
     },
     "execution_count": 81,
     "metadata": {},
     "output_type": "execute_result"
    }
   ],
   "source": [
    "forest_pipe.fit(X_train,y_train)"
   ]
  },
  {
   "cell_type": "code",
   "execution_count": 82,
   "metadata": {},
   "outputs": [
    {
     "data": {
      "text/plain": [
       "<sklearn.metrics._plot.roc_curve.RocCurveDisplay at 0x16935b25700>"
      ]
     },
     "execution_count": 82,
     "metadata": {},
     "output_type": "execute_result"
    },
    {
     "data": {
      "image/png": "[encoded data removed]",
      "text/plain": [
       "<Figure size 432x288 with 1 Axes>"
      ]
     },
     "metadata": {
      "needs_background": "light"
     },
     "output_type": "display_data"
    }
   ],
   "source": [
    "plot_roc_curve(forest_pipe,X_test,y_test)"
   ]
  },
  {
   "cell_type": "markdown",
   "metadata": {},
   "source": [
    "## SVM"
   ]
  },
  {
   "cell_type": "code",
   "execution_count": 83,
   "metadata": {},
   "outputs": [],
   "source": [
    "from sklearn.svm import SVC"
   ]
  },
  {
   "cell_type": "code",
   "execution_count": 85,
   "metadata": {},
   "outputs": [],
   "source": [
    "svc = SVC(probability=True)"
   ]
  },
  {
   "cell_type": "code",
   "execution_count": 86,
   "metadata": {},
   "outputs": [],
   "source": [
    "svc_pipe = Pipeline([('Imputer',SimpleImputer(missing_values=np.nan,strategy='mean'))\n",
    "                    ,('Scaler',StandardScaler())\n",
    "                     ,('SVC',svc)\n",
    "                    ])"
   ]
  },
  {
   "cell_type": "code",
   "execution_count": 87,
   "metadata": {},
   "outputs": [],
   "source": [
    "svc_params = [{'SVC__kernel':['linear', 'poly', 'rbf', 'sigmoid']}]"
   ]
  },
  {
   "cell_type": "code",
   "execution_count": 88,
   "metadata": {},
   "outputs": [],
   "source": [
    "svc_grid = GridSearchCV(svc_pipe,svc_params,cv=5,scoring='roc_auc')"
   ]
  },
  {
   "cell_type": "code",
   "execution_count": 89,
   "metadata": {},
   "outputs": [
    {
     "data": {
      "text/plain": [
       "GridSearchCV(cv=5,\n",
       "             estimator=Pipeline(steps=[('Imputer', SimpleImputer()),\n",
       "                                       ('Scaler', StandardScaler()),\n",
       "                                       ('SVC', SVC(probability=True))]),\n",
       "             param_grid=[{'SVC__kernel': ['linear', 'poly', 'rbf', 'sigmoid']}],\n",
       "             scoring='roc_auc')"
      ]
     },
     "execution_count": 89,
     "metadata": {},
     "output_type": "execute_result"
    }
   ],
   "source": [
    "svc_grid.fit(X_train,y_train)"
   ]
  },
  {
   "cell_type": "code",
   "execution_count": 90,
   "metadata": {},
   "outputs": [
    {
     "data": {
      "text/plain": [
       "{'SVC__kernel': 'rbf'}"
      ]
     },
     "execution_count": 90,
     "metadata": {},
     "output_type": "execute_result"
    }
   ],
   "source": [
    "svc_grid.best_params_"
   ]
  },
  {
   "cell_type": "code",
   "execution_count": 91,
   "metadata": {},
   "outputs": [
    {
     "data": {
      "text/plain": [
       "{'fit_time': array([0.05699849, 0.04899836, 0.06100059, 0.05599999, 0.04899716]),\n",
       " 'score_time': array([0.01300025, 0.01699877, 0.01299906, 0.01099777, 0.01200175]),\n",
       " 'test_roc_auc': array([0.89076155, 0.83801498, 0.80941276, 0.80421878, 0.88194444]),\n",
       " 'test_precision': array([0.91891892, 0.82978723, 0.79166667, 0.83333333, 0.82      ]),\n",
       " 'test_recall': array([0.62962963, 0.72222222, 0.71698113, 0.56603774, 0.75925926])}"
      ]
     },
     "execution_count": 91,
     "metadata": {},
     "output_type": "execute_result"
    }
   ],
   "source": [
    "cross_validate(svc_pipe,X_train,y_train,scoring=['roc_auc','precision','recall'])"
   ]
  },
  {
   "cell_type": "code",
   "execution_count": 92,
   "metadata": {},
   "outputs": [
    {
     "data": {
      "text/plain": [
       "Pipeline(steps=[('Imputer', SimpleImputer()), ('Scaler', StandardScaler()),\n",
       "                ('SVC', SVC(probability=True))])"
      ]
     },
     "execution_count": 92,
     "metadata": {},
     "output_type": "execute_result"
    }
   ],
   "source": [
    "svc_pipe.fit(X_train,y_train)"
   ]
  },
  {
   "cell_type": "code",
   "execution_count": 93,
   "metadata": {},
   "outputs": [
    {
     "data": {
      "text/plain": [
       "<sklearn.metrics._plot.roc_curve.RocCurveDisplay at 0x16935b27a60>"
      ]
     },
     "execution_count": 93,
     "metadata": {},
     "output_type": "execute_result"
    },
    {
     "data": {
      "image/png": "[encoded data removed]",
      "text/plain": [
       "<Figure size 432x288 with 1 Axes>"
      ]
     },
     "metadata": {
      "needs_background": "light"
     },
     "output_type": "display_data"
    }
   ],
   "source": [
    "plot_roc_curve(svc_pipe,X_test,y_test)"
   ]
  },
  {
   "cell_type": "markdown",
   "metadata": {},
   "source": [
    "The SVC doesn't look too great..."
   ]
  },
  {
   "cell_type": "markdown",
   "metadata": {},
   "source": [
    "## Naive Bayes"
   ]
  },
  {
   "cell_type": "code",
   "execution_count": 94,
   "metadata": {},
   "outputs": [],
   "source": [
    "from sklearn.naive_bayes import GaussianNB"
   ]
  },
  {
   "cell_type": "code",
   "execution_count": 95,
   "metadata": {},
   "outputs": [],
   "source": [
    "nb = GaussianNB()"
   ]
  },
  {
   "cell_type": "code",
   "execution_count": 96,
   "metadata": {},
   "outputs": [],
   "source": [
    "nb_pipe = Pipeline([('Imputer',SimpleImputer(missing_values=np.nan,strategy='mean'))\n",
    "                    ,('Scaler',StandardScaler())\n",
    "                     ,('NB',nb)\n",
    "                    ])"
   ]
  },
  {
   "cell_type": "code",
   "execution_count": 97,
   "metadata": {},
   "outputs": [
    {
     "data": {
      "text/plain": [
       "{'fit_time': array([0.00899935, 0.00999951, 0.01299834, 0.0090003 , 0.01200008]),\n",
       " 'score_time': array([0.00999975, 0.00799894, 0.01199818, 0.01199961, 0.01099873]),\n",
       " 'test_roc_auc': array([0.8460258 , 0.81970454, 0.82340471, 0.80761077, 0.74074074]),\n",
       " 'test_precision': array([0.73584906, 0.76470588, 0.70909091, 0.70833333, 0.66666667]),\n",
       " 'test_recall': array([0.72222222, 0.72222222, 0.73584906, 0.64150943, 0.62962963])}"
      ]
     },
     "execution_count": 97,
     "metadata": {},
     "output_type": "execute_result"
    }
   ],
   "source": [
    "cross_validate(nb_pipe,X_train,y_train,scoring=['roc_auc','precision','recall'])"
   ]
  },
  {
   "cell_type": "code",
   "execution_count": 98,
   "metadata": {},
   "outputs": [
    {
     "data": {
      "text/plain": [
       "Pipeline(steps=[('Imputer', SimpleImputer()), ('Scaler', StandardScaler()),\n",
       "                ('NB', GaussianNB())])"
      ]
     },
     "execution_count": 98,
     "metadata": {},
     "output_type": "execute_result"
    }
   ],
   "source": [
    "nb_pipe.fit(X_train,y_train)"
   ]
  },
  {
   "cell_type": "code",
   "execution_count": 99,
   "metadata": {},
   "outputs": [
    {
     "data": {
      "text/plain": [
       "<sklearn.metrics._plot.roc_curve.RocCurveDisplay at 0x16935b7b2e0>"
      ]
     },
     "execution_count": 99,
     "metadata": {},
     "output_type": "execute_result"
    },
    {
     "data": {
      "image/png": "[encoded data removed]",
      "text/plain": [
       "<Figure size 432x288 with 1 Axes>"
      ]
     },
     "metadata": {
      "needs_background": "light"
     },
     "output_type": "display_data"
    }
   ],
   "source": [
    "plot_roc_curve(nb_pipe,X_test,y_test)"
   ]
  },
  {
   "cell_type": "markdown",
   "metadata": {},
   "source": [
    "Hmm not as good as the other ones"
   ]
  },
  {
   "cell_type": "markdown",
   "metadata": {},
   "source": [
    "## XGBoost"
   ]
  },
  {
   "cell_type": "code",
   "execution_count": 100,
   "metadata": {},
   "outputs": [],
   "source": [
    "import xgboost as xgb"
   ]
  },
  {
   "cell_type": "code",
   "execution_count": 117,
   "metadata": {},
   "outputs": [],
   "source": [
    "xgboost = xgb.XGBClassifier(use_label_encoder=False,eval_metric='mlogloss')"
   ]
  },
  {
   "cell_type": "code",
   "execution_count": 118,
   "metadata": {},
   "outputs": [],
   "source": [
    "xgb_pipe = Pipeline([('Imputer',SimpleImputer(missing_values=np.nan,strategy='mean'))\n",
    "                    ,('Scaler',StandardScaler())\n",
    "                     ,('XGB',xgboost)\n",
    "                    ])"
   ]
  },
  {
   "cell_type": "code",
   "execution_count": 119,
   "metadata": {},
   "outputs": [
    {
     "data": {
      "text/plain": [
       "{'fit_time': array([0.14299703, 0.12600017, 0.14504147, 0.12100005, 0.13803458]),\n",
       " 'score_time': array([0.02100205, 0.01799917, 0.01899815, 0.01800036, 0.02000022]),\n",
       " 'test_roc_auc': array([0.84935497, 0.84155223, 0.85859657, 0.86675853, 0.85606061]),\n",
       " 'test_precision': array([0.79166667, 0.71186441, 0.75510204, 0.73076923, 0.79245283]),\n",
       " 'test_recall': array([0.7037037 , 0.77777778, 0.69811321, 0.71698113, 0.77777778])}"
      ]
     },
     "execution_count": 119,
     "metadata": {},
     "output_type": "execute_result"
    }
   ],
   "source": [
    "cross_validate(xgb_pipe,X_train,y_train,cv=5,scoring=['roc_auc','precision','recall'])"
   ]
  },
  {
   "cell_type": "code",
   "execution_count": 120,
   "metadata": {},
   "outputs": [
    {
     "data": {
      "text/plain": [
       "Pipeline(steps=[('Imputer', SimpleImputer()), ('Scaler', StandardScaler()),\n",
       "                ('XGB',\n",
       "                 XGBClassifier(base_score=0.5, booster='gbtree',\n",
       "                               colsample_bylevel=1, colsample_bynode=1,\n",
       "                               colsample_bytree=1, eval_metric='mlogloss',\n",
       "                               gamma=0, gpu_id=-1, importance_type='gain',\n",
       "                               interaction_constraints='',\n",
       "                               learning_rate=0.300000012, max_delta_step=0,\n",
       "                               max_depth=6, min_child_weight=1, missing=nan,\n",
       "                               monotone_constraints='()', n_estimators=100,\n",
       "                               n_jobs=8, num_parallel_tree=1, random_state=0,\n",
       "                               reg_alpha=0, reg_lambda=1, scale_pos_weight=1,\n",
       "                               subsample=1, tree_method='exact',\n",
       "                               use_label_encoder=False, validate_parameters=1,\n",
       "                               verbosity=None))])"
      ]
     },
     "execution_count": 120,
     "metadata": {},
     "output_type": "execute_result"
    }
   ],
   "source": [
    "xgb_pipe.fit(X_train,y_train)"
   ]
  },
  {
   "cell_type": "code",
   "execution_count": 121,
   "metadata": {},
   "outputs": [
    {
     "data": {
      "text/plain": [
       "<sklearn.metrics._plot.roc_curve.RocCurveDisplay at 0x1693580e070>"
      ]
     },
     "execution_count": 121,
     "metadata": {},
     "output_type": "execute_result"
    },
    {
     "data": {
      "image/png": "[encoded data removed]",
      "text/plain": [
       "<Figure size 432x288 with 1 Axes>"
      ]
     },
     "metadata": {
      "needs_background": "light"
     },
     "output_type": "display_data"
    }
   ],
   "source": [
    "plot_roc_curve(xgb_pipe,X_test,y_test)"
   ]
  },
  {
   "cell_type": "markdown",
   "metadata": {},
   "source": [
    "Seems pretty decent"
   ]
  },
  {
   "cell_type": "markdown",
   "metadata": {},
   "source": [
    "# Ensembling the models"
   ]
  },
  {
   "cell_type": "code",
   "execution_count": 122,
   "metadata": {},
   "outputs": [],
   "source": [
    "from sklearn.ensemble import VotingClassifier"
   ]
  },
  {
   "cell_type": "code",
   "execution_count": 123,
   "metadata": {},
   "outputs": [],
   "source": [
    "voting_clf = VotingClassifier(\n",
    "    estimators=[('lr', log_pipe)\n",
    "                , ('dt', dec_pipe)\n",
    "                , ('rf', forest_pipe)\n",
    "                ,('nb',nb_pipe)\n",
    "                ,('xgb',xgb_pipe)\n",
    "                ,('svc',svc_pipe)\n",
    "               ],\n",
    "    voting='soft')"
   ]
  },
  {
   "cell_type": "code",
   "execution_count": 124,
   "metadata": {},
   "outputs": [
    {
     "data": {
      "text/plain": [
       "{'fit_time': array([0.46251011, 0.49702907, 0.48057961, 0.46410918, 0.4519999 ]),\n",
       " 'score_time': array([0.08200121, 0.08500147, 0.08100057, 0.07599998, 0.07700014]),\n",
       " 'test_roc_auc': array([0.88951311, 0.85445277, 0.85880856, 0.85912656, 0.88994108]),\n",
       " 'test_precision': array([0.86046512, 0.78431373, 0.79591837, 0.77777778, 0.83673469]),\n",
       " 'test_recall': array([0.68518519, 0.74074074, 0.73584906, 0.66037736, 0.75925926])}"
      ]
     },
     "execution_count": 124,
     "metadata": {},
     "output_type": "execute_result"
    }
   ],
   "source": [
    "cross_validate(voting_clf,X_train,y_train,scoring=['roc_auc','precision','recall'])"
   ]
  },
  {
   "cell_type": "code",
   "execution_count": 125,
   "metadata": {},
   "outputs": [
    {
     "data": {
      "text/plain": [
       "VotingClassifier(estimators=[('lr',\n",
       "                              Pipeline(steps=[('Imputer', SimpleImputer()),\n",
       "                                              ('Scaler', StandardScaler()),\n",
       "                                              ('Logistic',\n",
       "                                               LogisticRegression())])),\n",
       "                             ('dt',\n",
       "                              Pipeline(steps=[('Imputer', SimpleImputer()),\n",
       "                                              ('Scaler', StandardScaler()),\n",
       "                                              ('DecTree',\n",
       "                                               DecisionTreeClassifier(max_depth=5,\n",
       "                                                                      max_leaf_nodes=15,\n",
       "                                                                      min_samples_leaf=21))])),\n",
       "                             ('rf',\n",
       "                              Pipeline(steps=[('Imputer', Simple...\n",
       "                                                             monotone_constraints='()',\n",
       "                                                             n_estimators=100,\n",
       "                                                             n_jobs=8,\n",
       "                                                             num_parallel_tree=1,\n",
       "                                                             random_state=0,\n",
       "                                                             reg_alpha=0,\n",
       "                                                             reg_lambda=1,\n",
       "                                                             scale_pos_weight=1,\n",
       "                                                             subsample=1,\n",
       "                                                             tree_method='exact',\n",
       "                                                             use_label_encoder=False,\n",
       "                                                             validate_parameters=1,\n",
       "                                                             verbosity=None))])),\n",
       "                             ('svc',\n",
       "                              Pipeline(steps=[('Imputer', SimpleImputer()),\n",
       "                                              ('Scaler', StandardScaler()),\n",
       "                                              ('SVC',\n",
       "                                               SVC(probability=True))]))],\n",
       "                 voting='soft')"
      ]
     },
     "execution_count": 125,
     "metadata": {},
     "output_type": "execute_result"
    }
   ],
   "source": [
    "voting_clf.fit(X_train,y_train)"
   ]
  },
  {
   "cell_type": "code",
   "execution_count": 126,
   "metadata": {},
   "outputs": [
    {
     "data": {
      "text/plain": [
       "<sklearn.metrics._plot.roc_curve.RocCurveDisplay at 0x1693597d970>"
      ]
     },
     "execution_count": 126,
     "metadata": {},
     "output_type": "execute_result"
    },
    {
     "data": {
      "image/png": "[encoded data removed]",
      "text/plain": [
       "<Figure size 432x288 with 1 Axes>"
      ]
     },
     "metadata": {
      "needs_background": "light"
     },
     "output_type": "display_data"
    }
   ],
   "source": [
    "plot_roc_curve(voting_clf,X_test,y_test)"
   ]
  },
  {
   "cell_type": "markdown",
   "metadata": {},
   "source": [
    "## Predict on test"
   ]
  },
  {
   "cell_type": "code",
   "execution_count": 127,
   "metadata": {},
   "outputs": [
    {
     "data": {
      "text/plain": [
       "VotingClassifier(estimators=[('lr',\n",
       "                              Pipeline(steps=[('Imputer', SimpleImputer()),\n",
       "                                              ('Scaler', StandardScaler()),\n",
       "                                              ('Logistic',\n",
       "                                               LogisticRegression())])),\n",
       "                             ('dt',\n",
       "                              Pipeline(steps=[('Imputer', SimpleImputer()),\n",
       "                                              ('Scaler', StandardScaler()),\n",
       "                                              ('DecTree',\n",
       "                                               DecisionTreeClassifier(max_depth=5,\n",
       "                                                                      max_leaf_nodes=15,\n",
       "                                                                      min_samples_leaf=21))])),\n",
       "                             ('rf',\n",
       "                              Pipeline(steps=[('Imputer', Simple...\n",
       "                                                             monotone_constraints='()',\n",
       "                                                             n_estimators=100,\n",
       "                                                             n_jobs=8,\n",
       "                                                             num_parallel_tree=1,\n",
       "                                                             random_state=0,\n",
       "                                                             reg_alpha=0,\n",
       "                                                             reg_lambda=1,\n",
       "                                                             scale_pos_weight=1,\n",
       "                                                             subsample=1,\n",
       "                                                             tree_method='exact',\n",
       "                                                             use_label_encoder=False,\n",
       "                                                             validate_parameters=1,\n",
       "                                                             verbosity=None))])),\n",
       "                             ('svc',\n",
       "                              Pipeline(steps=[('Imputer', SimpleImputer()),\n",
       "                                              ('Scaler', StandardScaler()),\n",
       "                                              ('SVC',\n",
       "                                               SVC(probability=True))]))],\n",
       "                 voting='soft')"
      ]
     },
     "execution_count": 127,
     "metadata": {},
     "output_type": "execute_result"
    }
   ],
   "source": [
    "voting_clf.fit(X,y)"
   ]
  },
  {
   "cell_type": "code",
   "execution_count": 128,
   "metadata": {},
   "outputs": [],
   "source": [
    "test_data['Survived'] = voting_clf.predict(test_data_dummies[['Age','SibSp','Parch','Fare','Child','Has_Cabin','Has_Age','Pclass_1','Pclass_2','Sex_female','Embarked_C','Embarked_Q']])"
   ]
  },
  {
   "cell_type": "code",
   "execution_count": 129,
   "metadata": {},
   "outputs": [],
   "source": [
    "test_data[['PassengerId','Survived']].to_csv('ensemble_predictions.csv',index=False)"
   ]
  },
  {
   "cell_type": "markdown",
   "metadata": {},
   "source": [
    "# Stacking the models"
   ]
  },
  {
   "cell_type": "code",
   "execution_count": 130,
   "metadata": {},
   "outputs": [],
   "source": [
    "from sklearn.ensemble import StackingClassifier"
   ]
  },
  {
   "cell_type": "code",
   "execution_count": 131,
   "metadata": {},
   "outputs": [],
   "source": [
    "stacking = StackingClassifier(estimators=[('lr', log_pipe)\n",
    "                , ('dt', dec_pipe)\n",
    "                , ('rf', forest_pipe)\n",
    "                ,('nb',nb_pipe)\n",
    "                ,('xgb',xgb_pipe)\n",
    "                ,('svc',svc_pipe)\n",
    "               ],)"
   ]
  },
  {
   "cell_type": "code",
   "execution_count": 132,
   "metadata": {},
   "outputs": [
    {
     "data": {
      "text/plain": [
       "{'fit_time': array([2.6955452 , 2.609128  , 2.67016697, 2.58047605, 2.56964278]),\n",
       " 'score_time': array([0.07899809, 0.10399961, 0.08005738, 0.07599998, 0.07764006]),\n",
       " 'test_roc_auc': array([0.89429879, 0.85736579, 0.86347255, 0.83835065, 0.89478114]),\n",
       " 'test_precision': array([0.85714286, 0.75925926, 0.76470588, 0.76744186, 0.81632653]),\n",
       " 'test_recall': array([0.66666667, 0.75925926, 0.73584906, 0.62264151, 0.74074074])}"
      ]
     },
     "execution_count": 132,
     "metadata": {},
     "output_type": "execute_result"
    }
   ],
   "source": [
    "cross_validate(stacking,X_train,y_train,cv=5,scoring=['roc_auc','precision','recall'])"
   ]
  },
  {
   "cell_type": "code",
   "execution_count": 133,
   "metadata": {},
   "outputs": [
    {
     "data": {
      "text/plain": [
       "StackingClassifier(estimators=[('lr',\n",
       "                                Pipeline(steps=[('Imputer', SimpleImputer()),\n",
       "                                                ('Scaler', StandardScaler()),\n",
       "                                                ('Logistic',\n",
       "                                                 LogisticRegression())])),\n",
       "                               ('dt',\n",
       "                                Pipeline(steps=[('Imputer', SimpleImputer()),\n",
       "                                                ('Scaler', StandardScaler()),\n",
       "                                                ('DecTree',\n",
       "                                                 DecisionTreeClassifier(max_depth=5,\n",
       "                                                                        max_leaf_nodes=15,\n",
       "                                                                        min_samples_leaf=21))])),\n",
       "                               ('rf',\n",
       "                                Pipeline(steps=[('Imputer', Simp...\n",
       "                                                               missing=nan,\n",
       "                                                               monotone_constraints='()',\n",
       "                                                               n_estimators=100,\n",
       "                                                               n_jobs=8,\n",
       "                                                               num_parallel_tree=1,\n",
       "                                                               random_state=0,\n",
       "                                                               reg_alpha=0,\n",
       "                                                               reg_lambda=1,\n",
       "                                                               scale_pos_weight=1,\n",
       "                                                               subsample=1,\n",
       "                                                               tree_method='exact',\n",
       "                                                               use_label_encoder=False,\n",
       "                                                               validate_parameters=1,\n",
       "                                                               verbosity=None))])),\n",
       "                               ('svc',\n",
       "                                Pipeline(steps=[('Imputer', SimpleImputer()),\n",
       "                                                ('Scaler', StandardScaler()),\n",
       "                                                ('SVC',\n",
       "                                                 SVC(probability=True))]))])"
      ]
     },
     "execution_count": 133,
     "metadata": {},
     "output_type": "execute_result"
    }
   ],
   "source": [
    "stacking.fit(X_train,y_train)"
   ]
  },
  {
   "cell_type": "code",
   "execution_count": 134,
   "metadata": {},
   "outputs": [
    {
     "data": {
      "text/plain": [
       "<sklearn.metrics._plot.roc_curve.RocCurveDisplay at 0x1693edfe850>"
      ]
     },
     "execution_count": 134,
     "metadata": {},
     "output_type": "execute_result"
    },
    {
     "data": {
      "image/png": "[encoded data removed]",
      "text/plain": [
       "<Figure size 432x288 with 1 Axes>"
      ]
     },
     "metadata": {
      "needs_background": "light"
     },
     "output_type": "display_data"
    }
   ],
   "source": [
    "plot_roc_curve(stacking,X_test,y_test)"
   ]
  },
  {
   "cell_type": "markdown",
   "metadata": {},
   "source": [
    "## Predict on test"
   ]
  },
  {
   "cell_type": "code",
   "execution_count": 135,
   "metadata": {},
   "outputs": [
    {
     "data": {
      "text/plain": [
       "StackingClassifier(estimators=[('lr',\n",
       "                                Pipeline(steps=[('Imputer', SimpleImputer()),\n",
       "                                                ('Scaler', StandardScaler()),\n",
       "                                                ('Logistic',\n",
       "                                                 LogisticRegression())])),\n",
       "                               ('dt',\n",
       "                                Pipeline(steps=[('Imputer', SimpleImputer()),\n",
       "                                                ('Scaler', StandardScaler()),\n",
       "                                                ('DecTree',\n",
       "                                                 DecisionTreeClassifier(max_depth=5,\n",
       "                                                                        max_leaf_nodes=15,\n",
       "                                                                        min_samples_leaf=21))])),\n",
       "                               ('rf',\n",
       "                                Pipeline(steps=[('Imputer', Simp...\n",
       "                                                               missing=nan,\n",
       "                                                               monotone_constraints='()',\n",
       "                                                               n_estimators=100,\n",
       "                                                               n_jobs=8,\n",
       "                                                               num_parallel_tree=1,\n",
       "                                                               random_state=0,\n",
       "                                                               reg_alpha=0,\n",
       "                                                               reg_lambda=1,\n",
       "                                                               scale_pos_weight=1,\n",
       "                                                               subsample=1,\n",
       "                                                               tree_method='exact',\n",
       "                                                               use_label_encoder=False,\n",
       "                                                               validate_parameters=1,\n",
       "                                                               verbosity=None))])),\n",
       "                               ('svc',\n",
       "                                Pipeline(steps=[('Imputer', SimpleImputer()),\n",
       "                                                ('Scaler', StandardScaler()),\n",
       "                                                ('SVC',\n",
       "                                                 SVC(probability=True))]))])"
      ]
     },
     "execution_count": 135,
     "metadata": {},
     "output_type": "execute_result"
    }
   ],
   "source": [
    "stacking.fit(X,y)"
   ]
  },
  {
   "cell_type": "code",
   "execution_count": 136,
   "metadata": {},
   "outputs": [],
   "source": [
    "test_data['Survived'] = stacking.predict(test_data_dummies[['Age','SibSp','Parch','Fare','Child','Has_Cabin','Has_Age','Pclass_1','Pclass_2','Sex_female','Embarked_C','Embarked_Q']])"
   ]
  },
  {
   "cell_type": "code",
   "execution_count": 137,
   "metadata": {},
   "outputs": [],
   "source": [
    "test_data[['PassengerId','Survived']].to_csv('ensemble_predictions2.csv',index=False)"
   ]
  },
  {
   "cell_type": "code",
   "execution_count": null,
   "metadata": {},
   "outputs": [],
   "source": []
  }
 ],
 "metadata": {
  "kernelspec": {
   "display_name": "Python 3",
   "language": "python",
   "name": "python3"
  },
  "language_info": {
   "codemirror_mode": {
    "name": "ipython",
    "version": 3
   },
   "file_extension": ".py",
   "mimetype": "text/x-python",
   "name": "python",
   "nbconvert_exporter": "python",
   "pygments_lexer": "ipython3",
   "version": "3.8.5"
  },
  "toc": {
   "base_numbering": 1,
   "nav_menu": {},
   "number_sections": true,
   "sideBar": true,
   "skip_h1_title": false,
   "title_cell": "Table of Contents",
   "title_sidebar": "Contents",
   "toc_cell": true,
   "toc_position": {
    "height": "calc(100% - 180px)",
    "left": "10px",
    "top": "150px",
    "width": "184px"
   },
   "toc_section_display": true,
   "toc_window_display": true
  },
  "varInspector": {
   "cols": {
    "lenName": 16,
    "lenType": 16,
    "lenVar": 40
   },
   "kernels_config": {
    "python": {
     "delete_cmd_postfix": "",
     "delete_cmd_prefix": "del ",
     "library": "var_list.py",
     "varRefreshCmd": "print(var_dic_list())"
    },
    "r": {
     "delete_cmd_postfix": ") ",
     "delete_cmd_prefix": "rm(",
     "library": "var_list.r",
     "varRefreshCmd": "cat(var_dic_list()) "
    }
   },
   "oldHeight": 123,
   "position": {
    "height": "40px",
    "left": "1337px",
    "right": "20px",
    "top": "128px",
    "width": "250px"
   },
   "types_to_exclude": [
    "module",
    "function",
    "builtin_function_or_method",
    "instance",
    "_Feature"
   ],
   "varInspector_section_display": "none",
   "window_display": false
  }
 },
 "nbformat": 4,
 "nbformat_minor": 2
}
